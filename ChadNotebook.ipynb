{
 "cells": [
  {
   "cell_type": "markdown",
   "metadata": {
    "collapsed": true
   },
   "source": [
    "# Inverted Indexs\n",
    "\n",
    "For the twitter data, there will be two inverted indexes. The first inverted index will have the username as the key and the tweets that correspond to that username as the values. The second inverted index will be the word index for our tweets; the key will be a word and the values will be the id of the documents that contain that word."
   ]
  },
  {
   "cell_type": "markdown",
   "metadata": {},
   "source": [
    "# Word Dictionary Reversed Index\n",
    "\n",
    "The reversed index for the words in the corpus will be created by going through each word in each document. The reveresed index will allow for a faster retrieval of relevant documents. "
   ]
  },
  {
   "cell_type": "code",
   "execution_count": 17,
   "metadata": {
    "collapsed": false
   },
   "outputs": [],
   "source": [
    "def create_inverted_index(corpus):\n",
    "    idx = {}\n",
    "    \n",
    "    for i, doc in enumerate(corpus):\n",
    "        # Iterate through each word in the document\n",
    "        for word in doc.split():\n",
    "            if word in idx:\n",
    "                # Update the document's term frequency\n",
    "                if i in idx[word]:\n",
    "                    idx[word][i] += 1\n",
    "                # Add the document to the word index\n",
    "                else:\n",
    "                    idx[word][i] = 1;\n",
    "            # Add the word to the reversed index\n",
    "            else:\n",
    "                idx[word] = {i:1}\n",
    "    \n",
    "    return idx\n"
   ]
  },
  {
   "cell_type": "code",
   "execution_count": 18,
   "metadata": {
    "collapsed": false
   },
   "outputs": [
    {
     "data": {
      "text/plain": [
       "{'...it': {1: 1},\n",
       " 'I': {2: 1},\n",
       " 'aig': {2: 1},\n",
       " 'and': {2: 1},\n",
       " 'asses': {2: 1},\n",
       " 'assesment': {1: 1},\n",
       " 'childs': {0: 1},\n",
       " 'economy': {2: 1},\n",
       " 'first': {1: 1},\n",
       " 'fuck': {2: 1},\n",
       " 'fucking': {1: 1},\n",
       " 'given': {2: 1},\n",
       " 'good': {0: 1},\n",
       " 'hate': {2: 1},\n",
       " 'is': {0: 1},\n",
       " 'it': {0: 1},\n",
       " 'kindle2': {0: 1, 1: 1},\n",
       " 'lee': {0: 1},\n",
       " 'loan': {2: 1},\n",
       " 'love': {0: 1},\n",
       " 'my': {0: 1},\n",
       " 'non': {2: 1},\n",
       " 'of': {1: 1},\n",
       " 'ok,': {1: 1},\n",
       " 'read': {0: 1},\n",
       " 'reading': {0: 1},\n",
       " 'rocks': {1: 1},\n",
       " 'the': {1: 1},\n",
       " 'their': {2: 1},\n",
       " 'this': {2: 1}}"
      ]
     },
     "execution_count": 18,
     "metadata": {},
     "output_type": "execute_result"
    }
   ],
   "source": [
    "test_users = [\"vcu451\", \"chadfu\", \"SIX15\"]\n",
    "test_corpus = [\"reading my kindle2  love it lee childs is good read\", \n",
    "               \"ok, first assesment of the kindle2 ...it fucking rocks\", \n",
    "               \"fuck this economy I hate aig and their non loan given asses\"]\n",
    "\n",
    "idx = create_inverted_index(test_corpus)\n",
    "\n",
    "idx"
   ]
  },
  {
   "cell_type": "markdown",
   "metadata": {},
   "source": [
    "# User Tweet Index\n",
    "\n",
    "The user tweet index will allow for the all tweets(documents) that belong to a username to be retrieved quickly."
   ]
  },
  {
   "cell_type": "code",
   "execution_count": 21,
   "metadata": {
    "collapsed": true
   },
   "outputs": [],
   "source": [
    "def create_user_index(users):\n",
    "    \n",
    "    user_tweets = {}\n",
    "    \n",
    "    # Go through each of the tweets in the corpus\n",
    "    for i in range( len(users) ):\n",
    "        # When user already exists, add the document id to the existing user tweet list\n",
    "        if users[i] in user_tweets:\n",
    "            user_tweets.append(i)\n",
    "        # Otherwise, creat a new list with the document id\n",
    "        else:\n",
    "            user_tweets[users[i] ] = [i]\n",
    "            \n",
    "    return user_tweets"
   ]
  },
  {
   "cell_type": "code",
   "execution_count": 22,
   "metadata": {
    "collapsed": false
   },
   "outputs": [
    {
     "data": {
      "text/plain": [
       "{'SIX15': [2], 'chadfu': [1], 'vcu451': [0]}"
      ]
     },
     "execution_count": 22,
     "metadata": {},
     "output_type": "execute_result"
    }
   ],
   "source": [
    "user_tweet_index = create_user_index(test_users)\n",
    "\n",
    "user_tweet_index"
   ]
  },
  {
   "cell_type": "code",
   "execution_count": null,
   "metadata": {
    "collapsed": true
   },
   "outputs": [],
   "source": []
  }
 ],
 "metadata": {
  "kernelspec": {
   "display_name": "Python 2",
   "language": "python",
   "name": "python2"
  },
  "language_info": {
   "codemirror_mode": {
    "name": "ipython",
    "version": 2
   },
   "file_extension": ".py",
   "mimetype": "text/x-python",
   "name": "python",
   "nbconvert_exporter": "python",
   "pygments_lexer": "ipython2",
   "version": "2.7.11"
  }
 },
 "nbformat": 4,
 "nbformat_minor": 0
}
