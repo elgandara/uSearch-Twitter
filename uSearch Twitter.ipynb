{
 "cells": [
  {
   "cell_type": "markdown",
   "metadata": {},
   "source": [
    "# uSearch \n",
    "This search engine will allow inquiring minds to enter a query that will be matched against our Twitter corpus. This will also feature a query option of allowing the user to search for tweets from a specified user. "
   ]
  },
  {
   "cell_type": "markdown",
   "metadata": {},
   "source": [
    "# Imports\n",
    "All needed libraries for this search engine to be functional."
   ]
  },
  {
   "cell_type": "code",
   "execution_count": 1,
   "metadata": {
    "collapsed": true
   },
   "outputs": [],
   "source": [
    "import re\n",
    "import csv\n",
    "import math\n",
    "import collections\n",
    "import pandas as pd\n",
    "import bokeh"
   ]
  },
  {
   "cell_type": "markdown",
   "metadata": {},
   "source": [
    "# Erase Link\n",
    "This function is part of the normalization effort. A full length tweet will be inserted, and a tweet without a link will be output. "
   ]
  },
  {
   "cell_type": "code",
   "execution_count": 2,
   "metadata": {
    "collapsed": true
   },
   "outputs": [],
   "source": [
    "def erase_link(tweet):\n",
    "    inx = tweet.find('http')\n",
    "    #Check to see if tweet contains a link\n",
    "    if inx != -1:\n",
    "        #Find white space\n",
    "        sp_inx = tweet.find(\" \", inx)\n",
    "        #Check if there is a white space after the link\n",
    "        if sp_inx != -1:\n",
    "            new_tweet = tweet[0:inx] + tweet[sp_inx + 1:]\n",
    "        else:\n",
    "            new_tweet = tweet[0:inx]\n",
    "        return new_tweet\n",
    "    return tweet"
   ]
  },
  {
   "cell_type": "markdown",
   "metadata": {},
   "source": [
    "# Normalize\n",
    "This function will normalize a tweet passed in. The output will be the tweet without any special characters, except a '@,' in all lowercase."
   ]
  },
  {
   "cell_type": "code",
   "execution_count": 3,
   "metadata": {
    "collapsed": false
   },
   "outputs": [],
   "source": [
    "def normalize(tweet):\n",
    "    #erase link\n",
    "    normalizedTweet = erase_link(tweet)\n",
    "    #print normalizedTweet\n",
    "    normalizedTweet = re.compile('[^a-zA-Z@]').sub(' ', normalizedTweet)\n",
    "    normalizedTweet = normalizedTweet.lower()\n",
    "    normalizedTweet = \" \".join(normalizedTweet.split())\n",
    "    return normalizedTweet\n"
   ]
  },
  {
   "cell_type": "markdown",
   "metadata": {},
   "source": [
    "This portion of the program will open a csv file containing all tweets that will comprise our corpus. Three lists will be created: one for the dates, one for the usernames, and one for the tweets. These three lists are parallel to each other."
   ]
  },
  {
   "cell_type": "code",
   "execution_count": 4,
   "metadata": {
    "collapsed": false
   },
   "outputs": [],
   "source": [
    "with open(\"twitter-data/smallData.csv\", 'rb') as csvfile:\n",
    "    r = csv.reader(csvfile, delimiter=',', quotechar='\"')\n",
    "    docs = [ (x[2], x[4], x[5])  for x in r]\n",
    "    \n",
    "tweet_date = [ d[0] for d in docs ] #Tweet dates\n",
    "tweet_user = [ d[1] for d in docs ] #Tweet users\n",
    "tweet_text = [ d[2] for d in docs ] #Tweet text\n",
    "\n",
    "#Normalize each tweet \n",
    "tweet_text = map(normalize, tweet_text)\n"
   ]
  },
  {
   "cell_type": "markdown",
   "metadata": {},
   "source": [
    "# Create Corpus \n",
    "This function will generate a corpus as a dictionary. The key value is a the document id, while the value is the date, username, and text"
   ]
  },
  {
   "cell_type": "code",
   "execution_count": 5,
   "metadata": {
    "collapsed": false
   },
   "outputs": [],
   "source": [
    "def create_corpus():\n",
    "    corpus = {}\n",
    "    for x in range(0,len(tweet_text)):\n",
    "        corpus[x] = [tweet_date[x], tweet_user[x],tweet_text[x]]\n",
    "        #print corpus[x]\n",
    "\n"
   ]
  },
  {
   "cell_type": "markdown",
   "metadata": {
    "collapsed": true
   },
   "source": [
    "# Inverted Indexs\n",
    "\n",
    "For the twitter data, there will be two inverted indexes. The first inverted index will have the username as the key and the tweets that correspond to that username as the values. The second inverted index will be the word index for our tweets; the key will be a word and the values will be the id of the documents that contain that word."
   ]
  },
  {
   "cell_type": "markdown",
   "metadata": {},
   "source": [
    "# Word Dictionary Reversed Index\n",
    "\n",
    "The reversed index for the words in the corpus will be created by going through each word in each document. The reveresed index will allow for a faster retrieval of relevant documents. "
   ]
  },
  {
   "cell_type": "code",
   "execution_count": 6,
   "metadata": {
    "collapsed": false
   },
   "outputs": [],
   "source": [
    "def create_inverted_index(corpus):\n",
    "    idx = {}\n",
    "    \n",
    "    for i, doc in enumerate(corpus):\n",
    "        # Iterate through each word in the document\n",
    "        for word in doc.split():\n",
    "            if word in idx:\n",
    "                # Update the document's term frequency\n",
    "                if i in idx[word]:\n",
    "                    idx[word][i] += 1\n",
    "                # Add the document to the word index\n",
    "                else:\n",
    "                    idx[word][i] = 1;\n",
    "            # Add the word to the reversed index\n",
    "            else:\n",
    "                idx[word] = {i:1}\n",
    "    \n",
    "    return idx\n"
   ]
  },
  {
   "cell_type": "code",
   "execution_count": 7,
   "metadata": {
    "collapsed": false
   },
   "outputs": [],
   "source": [
    "'''\n",
    "test_users = [\"vcu451\", \"chadfu\", \"SIX15\"]\n",
    "test_corpus = [\"reading my kindle2  love it lee childs is good read\", \n",
    "               \"ok, first assesment of the kindle2 ...it fucking rocks\", \n",
    "               \"fuck this economy I hate aig and their non loan given asses\"]\n",
    "'''\n",
    "\n",
    "idx = create_inverted_index(tweet_text)\n"
   ]
  },
  {
   "cell_type": "markdown",
   "metadata": {},
   "source": [
    "# User Tweet Index\n",
    "\n",
    "The user tweet index will allow for the all tweets(documents) that belong to a username to be retrieved quickly."
   ]
  },
  {
   "cell_type": "code",
   "execution_count": 8,
   "metadata": {
    "collapsed": true
   },
   "outputs": [],
   "source": [
    "def create_user_index(users):\n",
    "    \n",
    "    user_tweets = {}\n",
    "    \n",
    "    # Go through each of the tweets in the corpus\n",
    "    for i in range( len(users) ):\n",
    "        # When user already exists, add the document id to the existing user tweet list\n",
    "        if users[i] in user_tweets:\n",
    "            user_tweets[users[i] ].append(i)\n",
    "        # Otherwise, creat a new list with the document id\n",
    "        else:\n",
    "            user_tweets[users[i] ] = [i]\n",
    "            \n",
    "    return user_tweets"
   ]
  },
  {
   "cell_type": "code",
   "execution_count": 9,
   "metadata": {
    "collapsed": false
   },
   "outputs": [],
   "source": [
    "user_tweet_index = create_user_index(tweet_user)\n",
    "\n",
    "#user_tweet_index"
   ]
  },
  {
   "cell_type": "markdown",
   "metadata": {
    "collapsed": true
   },
   "source": [
    "# Document Ranking\n",
    "To rank the documents, we will be implementing two different ranking algorithms: TF-IDF and BM25. "
   ]
  },
  {
   "cell_type": "markdown",
   "metadata": {},
   "source": [
    "# TF-IDF\n",
    "The TF-IDF (term frequency–inverse document frequency) ranking algorithm ranks documents based on the term frequency of the words in the query in relation to the words in the documents."
   ]
  },
  {
   "cell_type": "code",
   "execution_count": 10,
   "metadata": {
    "collapsed": false
   },
   "outputs": [],
   "source": [
    "def print_results(results, n, head=True):\n",
    "    ''' Helper function to print results\n",
    "    '''\n",
    "    if head:\n",
    "        print('\\nTop %d from recall set of %d items:' % (n, len(results) ) )\n",
    "        for r in results[:n]:\n",
    "            print('\\t%0.2f - %s' % (r[0], r[2],tweet_text[r[1]]))\n",
    "    else:\n",
    "        print('\\nTop %d from recall set of %d items:' % (n, len(results) ) )\n",
    "        for r in results[:n]:\n",
    "            print('\\t%0.2f - %s' % (r[0],r[2], tweet_text[r[1]]))"
   ]
  },
  {
   "cell_type": "code",
   "execution_count": 11,
   "metadata": {
    "collapsed": false,
    "scrolled": true
   },
   "outputs": [
    {
     "name": "stdout",
     "output_type": "stream",
     "text": [
      "3.81270480423\n",
      "3.32022831913\n",
      "4.60116216459\n",
      "5.51745289646\n",
      "5.51745289646\n"
     ]
    }
   ],
   "source": [
    "def idf(term, idx, n):\n",
    "    # term - the term that is being scored\n",
    "    # idx - the reversed index on the terms in the corpus\n",
    "    # n - the number of docments the term appears in\n",
    "    return math.log(float(n) / (1 + len(idx[term])))\n",
    "    \n",
    "print(idf('how', idx, len(tweet_user)))\n",
    "print(idf('hate', idx, len(tweet_user)))\n",
    "print(idf('sleep', idx, len(tweet_user)))\n",
    "print(idf('whoopi', idx, len(tweet_user)))\n",
    "print(idf('monkeys', idx, len(tweet_user)))"
   ]
  },
  {
   "cell_type": "code",
   "execution_count": 12,
   "metadata": {
    "collapsed": false
   },
   "outputs": [],
   "source": [
    "def get_results_tfidf(qry, idx, n):\n",
    "    score = collections.Counter()\n",
    "    for term in qry.split():\n",
    "        if term in idx:\n",
    "            i = idf(term, idx, n)\n",
    "            for doc in idx[term]:\n",
    "                score[doc] += idx[term][doc] * i\n",
    "    results=[]\n",
    "    for x in [[r[0],r[1]] for r in zip(score.keys(), score.values())]:\n",
    "        if x[1] > 0:\n",
    "            results.append([x[1],x[0]])\n",
    "    sorted_results= sorted(results, key=lambda t : t[0] * -1)\n",
    "    return sorted_results\n",
    "#results = get_results_tfidf('monkeys', idx, len(tweet_user))\n",
    "#results = get_results_tfidf('hate', idx, len(tweet_user))\n",
    "#results = get_results_tfidf('sleep', idx, len(tweet_user))\n",
    "results = get_results_tfidf('hate', idx, len(tweet_user))\n",
    "\n",
    "#print_results(results, 10)"
   ]
  },
  {
   "cell_type": "markdown",
   "metadata": {},
   "source": [
    "# BM25\n",
    "Implement the BM25 ranking algorithm to rank our results. This ranking algorithm is the one we will be using for the final version of our search engine."
   ]
  },
  {
   "cell_type": "code",
   "execution_count": 13,
   "metadata": {
    "collapsed": false
   },
   "outputs": [
    {
     "data": {
      "text/plain": [
       "[[4.884069946101312, 494, 'sam33r'],\n",
       " [4.591805122198973, 50, 'Trazor1'],\n",
       " [4.591805122198973, 406, 'cassieeeelove'],\n",
       " [4.382027223215264, 272, 'Timl9068'],\n",
       " [4.190579431909742, 408, 'b_bassi'],\n",
       " [4.015159827783288, 409, 'cmg11'],\n",
       " [3.7049758067528193, 93, 'jonwolpert'],\n",
       " [3.567187450303335, 105, 'jos897'],\n",
       " [3.4392803305713424, 6, 'Seth937'],\n",
       " [3.0078723448550764, 422, 'fugface85'],\n",
       " [2.830358567125925, 296, 'MrsGinobili'],\n",
       " [2.7492336400426973, 143, 'NDEddieMac'],\n",
       " [2.672629606728814, 97, 'enriquenieto'],\n",
       " [2.4046221809844206, 210, 'davepurcell'],\n",
       " [2.2898126338817164, 149, 'JasonNegron'],\n",
       " [2.1854667417048277, 170, 'CWilliams_Rltr'],\n",
       " [2.136780601419324, 162, 'sardonnica']]"
      ]
     },
     "execution_count": 13,
     "metadata": {},
     "output_type": "execute_result"
    }
   ],
   "source": [
    "def get_results_bm25(qry, corpus, k1=2.5, b=0.25):\n",
    "    idx = create_inverted_index(corpus)\n",
    "    \n",
    "    # n - the length of the corpus\n",
    "    n = len(corpus)\n",
    "    \n",
    "    # d - list with elements corresponding to the length of each document\n",
    "    d = [len(x.split()) for x in corpus]\n",
    "    \n",
    "    # d_avg - the average document length of the docuemnts in the corpus\n",
    "    d_avg = float(sum(d) / len(d))\n",
    "    score = collections.Counter()\n",
    "    for term in qry.split():\n",
    "        if term in idx:\n",
    "            i = idf(term, idx, n)\n",
    "            for doc in idx[term]:\n",
    "                # f - the number of times the term appears in the document\n",
    "                f = float(idx[term][doc])\n",
    "                # s - the BM25 score for this (term, docuemnt) pair\n",
    "                s = i * ( (f * (k1 + 1) ) / (f + k1 * (1 - b + (b * (float(d[doc] ) / d_avg) ) ) ) )\n",
    "                score[doc] += s\n",
    "                \n",
    "    results = []\n",
    "    for x in [ [r[0], r[1], tweet_user[r[0]] ] for r in zip(score.keys(), score.values() )]:\n",
    "        if x[1] > 0:\n",
    "            results.append([ x[1], x[0], x[2]])\n",
    "            \n",
    "    sorted_results = sorted(results, key=lambda t: t[0] * -1)\n",
    "    return sorted_results\n",
    "\n",
    "results = get_results_bm25('hate', tweet_text, k1=1.5, b=0.75)\n",
    "results\n",
    "#print_results(results, 25)"
   ]
  },
  {
   "cell_type": "markdown",
   "metadata": {},
   "source": [
    "# Visualize the Effectiveness of BM25"
   ]
  },
  {
   "cell_type": "code",
   "execution_count": 14,
   "metadata": {
    "collapsed": true
   },
   "outputs": [],
   "source": [
    "from bokeh.plotting import output_notebook, show\n",
    "from bokeh.charts import Scatter"
   ]
  },
  {
   "cell_type": "code",
   "execution_count": 22,
   "metadata": {
    "collapsed": false,
    "scrolled": true
   },
   "outputs": [
    {
     "data": {
      "text/html": [
       "\n",
       "\n",
       "    <script type=\"text/javascript\">\n",
       "      \n",
       "      (function(global) {\n",
       "        function now() {\n",
       "          return new Date();\n",
       "        }\n",
       "      \n",
       "        if (typeof (window._bokeh_onload_callbacks) === \"undefined\") {\n",
       "          window._bokeh_onload_callbacks = [];\n",
       "        }\n",
       "      \n",
       "        function run_callbacks() {\n",
       "          window._bokeh_onload_callbacks.forEach(function(callback) { callback() });\n",
       "          delete window._bokeh_onload_callbacks\n",
       "          console.info(\"Bokeh: all callbacks have finished\");\n",
       "        }\n",
       "      \n",
       "        function load_libs(js_urls, callback) {\n",
       "          window._bokeh_onload_callbacks.push(callback);\n",
       "          if (window._bokeh_is_loading > 0) {\n",
       "            console.log(\"Bokeh: BokehJS is being loaded, scheduling callback at\", now());\n",
       "            return null;\n",
       "          }\n",
       "          if (js_urls == null || js_urls.length === 0) {\n",
       "            run_callbacks();\n",
       "            return null;\n",
       "          }\n",
       "          console.log(\"Bokeh: BokehJS not loaded, scheduling load and callback at\", now());\n",
       "          window._bokeh_is_loading = js_urls.length;\n",
       "          for (var i = 0; i < js_urls.length; i++) {\n",
       "            var url = js_urls[i];\n",
       "            var s = document.createElement('script');\n",
       "            s.src = url;\n",
       "            s.async = false;\n",
       "            s.onreadystatechange = s.onload = function() {\n",
       "              window._bokeh_is_loading--;\n",
       "              if (window._bokeh_is_loading === 0) {\n",
       "                console.log(\"Bokeh: all BokehJS libraries loaded\");\n",
       "                run_callbacks()\n",
       "              }\n",
       "            };\n",
       "            s.onerror = function() {\n",
       "              console.warn(\"failed to load library \" + url);\n",
       "            };\n",
       "            console.log(\"Bokeh: injecting script tag for BokehJS library: \", url);\n",
       "            document.getElementsByTagName(\"head\")[0].appendChild(s);\n",
       "          }\n",
       "        };var js_urls = ['https://cdn.pydata.org/bokeh/release/bokeh-0.11.0.min.js', 'https://cdn.pydata.org/bokeh/release/bokeh-widgets-0.11.0.min.js', 'https://cdn.pydata.org/bokeh/release/bokeh-compiler-0.11.0.min.js'];\n",
       "      \n",
       "        var inline_js = [\n",
       "          function(Bokeh) {\n",
       "            Bokeh.set_log_level(\"info\");\n",
       "          },\n",
       "          function(Bokeh) {\n",
       "            console.log(\"Bokeh: injecting CSS: https://cdn.pydata.org/bokeh/release/bokeh-0.11.0.min.css\");\n",
       "            Bokeh.embed.inject_css(\"https://cdn.pydata.org/bokeh/release/bokeh-0.11.0.min.css\");\n",
       "            console.log(\"Bokeh: injecting CSS: https://cdn.pydata.org/bokeh/release/bokeh-widgets-0.11.0.min.css\");\n",
       "            Bokeh.embed.inject_css(\"https://cdn.pydata.org/bokeh/release/bokeh-widgets-0.11.0.min.css\");\n",
       "          }\n",
       "        ];\n",
       "      \n",
       "        function run_inline_js() {\n",
       "          for (var i = 0; i < inline_js.length; i++) {\n",
       "            inline_js[i](window.Bokeh);\n",
       "          }\n",
       "        }\n",
       "      \n",
       "        if (window._bokeh_is_loading === 0) {\n",
       "          console.log(\"Bokeh: BokehJS loaded, going straight to plotting\");\n",
       "          run_inline_js();\n",
       "        } else {\n",
       "          load_libs(js_urls, function() {\n",
       "            console.log(\"Bokeh: BokehJS plotting callback run at\", now());\n",
       "            run_inline_js();\n",
       "          });\n",
       "        }\n",
       "      }(this));\n",
       "    </script>\n",
       "    <div>\n",
       "        <a href=\"http://bokeh.pydata.org\" target=\"_blank\" class=\"bk-logo bk-logo-small bk-logo-notebook\"></a>\n",
       "        <span>BokehJS successfully loaded.</span>\n",
       "    </div>"
      ]
     },
     "metadata": {},
     "output_type": "display_data"
    },
    {
     "data": {
      "text/html": [
       "\n",
       "\n",
       "    <div class=\"plotdiv\" id=\"22c80f7d-e9b2-46c9-8793-c6211d8ed576\"></div>\n",
       "<script type=\"text/javascript\">\n",
       "  \n",
       "  (function(global) {\n",
       "    function now() {\n",
       "      return new Date();\n",
       "    }\n",
       "  \n",
       "    if (typeof (window._bokeh_onload_callbacks) === \"undefined\") {\n",
       "      window._bokeh_onload_callbacks = [];\n",
       "    }\n",
       "  \n",
       "    function run_callbacks() {\n",
       "      window._bokeh_onload_callbacks.forEach(function(callback) { callback() });\n",
       "      delete window._bokeh_onload_callbacks\n",
       "      console.info(\"Bokeh: all callbacks have finished\");\n",
       "    }\n",
       "  \n",
       "    function load_libs(js_urls, callback) {\n",
       "      window._bokeh_onload_callbacks.push(callback);\n",
       "      if (window._bokeh_is_loading > 0) {\n",
       "        console.log(\"Bokeh: BokehJS is being loaded, scheduling callback at\", now());\n",
       "        return null;\n",
       "      }\n",
       "      if (js_urls == null || js_urls.length === 0) {\n",
       "        run_callbacks();\n",
       "        return null;\n",
       "      }\n",
       "      console.log(\"Bokeh: BokehJS not loaded, scheduling load and callback at\", now());\n",
       "      window._bokeh_is_loading = js_urls.length;\n",
       "      for (var i = 0; i < js_urls.length; i++) {\n",
       "        var url = js_urls[i];\n",
       "        var s = document.createElement('script');\n",
       "        s.src = url;\n",
       "        s.async = false;\n",
       "        s.onreadystatechange = s.onload = function() {\n",
       "          window._bokeh_is_loading--;\n",
       "          if (window._bokeh_is_loading === 0) {\n",
       "            console.log(\"Bokeh: all BokehJS libraries loaded\");\n",
       "            run_callbacks()\n",
       "          }\n",
       "        };\n",
       "        s.onerror = function() {\n",
       "          console.warn(\"failed to load library \" + url);\n",
       "        };\n",
       "        console.log(\"Bokeh: injecting script tag for BokehJS library: \", url);\n",
       "        document.getElementsByTagName(\"head\")[0].appendChild(s);\n",
       "      }\n",
       "    };var element = document.getElementById(\"22c80f7d-e9b2-46c9-8793-c6211d8ed576\");\n",
       "    if (element == null) {\n",
       "      console.log(\"Bokeh: ERROR: autoload.js configured with elementid '22c80f7d-e9b2-46c9-8793-c6211d8ed576' but no matching script tag was found. \")\n",
       "      return false;\n",
       "    }var js_urls = [];\n",
       "  \n",
       "    var inline_js = [\n",
       "      function(Bokeh) {\n",
       "        Bokeh.$(function() {\n",
       "            var docs_json = {\"f2de17b1-741e-4c98-9441-726a919fb973\": {\"version\": \"0.11.0\", \"roots\": {\"root_ids\": [\"8597c82d-eed2-4fe1-826e-502ce215c897\", \"f87e5882-9ded-41c0-accc-cc72a118f3df\", \"b016618a-1516-4107-bbeb-65ee13d63d82\", \"2df31d7d-bbda-4ecb-aec7-3b50a32e2275\"], \"references\": [{\"attributes\": {\"plot\": {\"subtype\": \"Chart\", \"type\": \"Plot\", \"id\": \"2df31d7d-bbda-4ecb-aec7-3b50a32e2275\"}, \"ticker\": {\"type\": \"BasicTicker\", \"id\": \"b1cf4134-f7ef-43b3-bc12-cd83e3c0f323\"}}, \"type\": \"Grid\", \"id\": \"cb0406e4-bb54-4c00-8695-f9c35f6678de\"}, {\"attributes\": {\"plot\": {\"subtype\": \"Chart\", \"type\": \"Plot\", \"id\": \"2df31d7d-bbda-4ecb-aec7-3b50a32e2275\"}}, \"type\": \"ResetTool\", \"id\": \"79aac02e-e964-4938-93b6-3f79a3bb2118\"}, {\"attributes\": {\"line_color\": {\"value\": \"black\"}, \"line_alpha\": {\"value\": 1.0}, \"render_mode\": \"css\", \"bottom_units\": \"screen\", \"level\": \"overlay\", \"top_units\": \"screen\", \"fill_alpha\": {\"value\": 0.5}, \"plot\": null, \"left_units\": \"screen\", \"line_dash\": [4, 4], \"line_width\": {\"value\": 2}, \"right_units\": \"screen\", \"fill_color\": {\"value\": \"lightgrey\"}}, \"type\": \"BoxAnnotation\", \"id\": \"18da2f61-5a8e-4f7f-b9c4-916d51b25c36\"}, {\"attributes\": {}, \"type\": \"BasicTickFormatter\", \"id\": \"9c154cf3-248f-4e7a-bbf5-6c5a3ee4b286\"}, {\"attributes\": {\"plot\": {\"subtype\": \"Chart\", \"type\": \"Plot\", \"id\": \"2df31d7d-bbda-4ecb-aec7-3b50a32e2275\"}}, \"type\": \"PreviewSaveTool\", \"id\": \"e66a6d70-2b83-4fd5-b477-8bdfabdad86c\"}, {\"attributes\": {\"plot\": {\"subtype\": \"Chart\", \"type\": \"Plot\", \"id\": \"b016618a-1516-4107-bbeb-65ee13d63d82\"}}, \"type\": \"PreviewSaveTool\", \"id\": \"8a67ad82-6e19-4a98-a447-6a2be07fae8a\"}, {\"attributes\": {\"callback\": null, \"end\": 32.7, \"start\": 0.2999999999999998}, \"type\": \"Range1d\", \"id\": \"60281d6c-1cc3-4034-a971-1021ff0cb262\"}, {\"attributes\": {}, \"type\": \"BasicTicker\", \"id\": \"b1cf4134-f7ef-43b3-bc12-cd83e3c0f323\"}, {\"attributes\": {\"line_color\": {\"value\": \"#f22c40\"}, \"fill_color\": {\"value\": \"#f22c40\"}, \"fill_alpha\": {\"value\": 0.7}, \"y\": {\"field\": \"y_values\"}, \"x\": {\"field\": \"x_values\"}, \"size\": {\"units\": \"screen\", \"value\": 8}}, \"type\": \"Circle\", \"id\": \"582335d1-b5c5-4b6b-ade8-ef54c44200a5\"}, {\"attributes\": {}, \"type\": \"BasicTickFormatter\", \"id\": \"14f3f63a-9481-4150-82ca-9b48bdfaac42\"}, {\"attributes\": {\"plot\": {\"subtype\": \"Chart\", \"type\": \"Plot\", \"id\": \"2df31d7d-bbda-4ecb-aec7-3b50a32e2275\"}}, \"type\": \"ResizeTool\", \"id\": \"7eaf6dd2-9b77-4079-9909-d3be41fad310\"}, {\"attributes\": {\"callback\": null, \"column_names\": [\"x_values\", \"y_values\"], \"data\": {\"x_values\": [7.612426953147894, 6.804137275221635, 6.059158741438244, 5.744669533405117, 5.204418480106831, 4.970687111239758, 4.953127492470367, 4.757047264051803, 4.666266826883281, 4.416513738786685, 4.153320800541478, 3.9285530245742195, 3.7116211544146864, 3.656849108268897, 3.276769549670611, 2.9549220248478476, 2.818691842366858, 2.2810423585419666, 2.110497135473409, 2.0623122693667097, 2.005089398407589, 2.001387239252479, 1.9940237836260901, 1.9940237836260901, 1.870171374705215, 1.870171374705215, 1.851009782751268, 1.851009782751268, 1.7665438865370642, 1.7608046276464302, 1.7608046276464302, 1.7438084439818897, 1.7438084439818897, 1.7107817689064753, 1.7000491354754432, 1.663522604019556, 1.663522604019556, 1.663522604019556, 1.663522604019556, 1.6483444780704724, 1.6483444780704724, 1.6483444780704724, 1.6483444780704724, 1.618804254449138, 1.618804254449138, 1.5627902664059148, 1.5362122006507122, 1.4979979668036796, 1.4979979668036796, 1.4856789045766758, 1.4856789045766758, 1.4856789045766758, 1.4616387928521344, 1.4616387928521344, 1.4616387928521344, 1.4270028025001877, 1.4270028025001877, 1.4158193949570828, 1.4158193949570828, 1.4158193949570828, 1.4158193949570828, 1.4158193949570828, 1.4158193949570828, 1.3624325399436183, 1.3522346915907468, 1.3522346915907468, 1.3522346915907468, 1.3522346915907468, 1.332290227113007, 1.332290227113007, 1.332290227113007, 1.2941157220381359, 1.2941157220381359, 1.2941157220381359, 1.2941157220381359, 1.2941157220381359, 1.27583725138788, 1.2407867774486523, 1.2407867774486523, 1.2407867774486523, 1.1916791213491014, 1.1916791213491014, 1.1916791213491014, 1.1916791213491014, 1.1916791213491014, 1.1916791213491014, 1.1916791213491014, 1.1916791213491014, 1.1916791213491014, 1.1916791213491014, 1.146310626881496, 1.146310626881496, 1.146310626881496, 1.1042698948442773, 1.1042698948442773, 1.1042698948442773, 1.1042698948442773, 1.0652037429040317, 1.0652037429040317, 1.0652037429040317, 1.0652037429040317, 1.0652037429040317, 1.0288072596612972, 1.0288072596612972, 1.0288072596612972, 1.0288072596612972, 1.0288072596612972, 0.9948158303773337, 0.9948158303773337, 0.9948158303773337, 0.9948158303773337, 0.9948158303773337, 0.9948158303773337, 0.9948158303773337, 0.9629986929452226, 0.9629986929452226, 0.9629986929452226, 0.9331536921308046, 0.9331536921308046, 0.9331536921308046, 0.9331536921308046, 0.9331536921308046, 0.9331536921308046, 0.9051029799425038, 0.8786894688546878, 0.8786894688546878, 0.8786894688546878, 0.8537738884523808, 0.8537738884523808, 0.8537738884523808, 0.8537738884523808, 0.8302323290281423, 0.8302323290281423, 0.8302323290281423, 0.8302323290281423, 0.8079541806642387, 0.8079541806642387, 0.8079541806642387, 0.8079541806642387, 0.8079541806642387, 0.7868403954552428, 0.7668020152653812, 0.7668020152653812, 0.7668020152653812, 0.7477589188597837, 0.729638751197592], \"chart_index\": [null, null, null, null, null, null, null, null, null, null, null, null, null, null, null, null, null, null, null, null, null, null, null, null, null, null, null, null, null, null, null, null, null, null, null, null, null, null, null, null, null, null, null, null, null, null, null, null, null, null, null, null, null, null, null, null, null, null, null, null, null, null, null, null, null, null, null, null, null, null, null, null, null, null, null, null, null, null, null, null, null, null, null, null, null, null, null, null, null, null, null, null, null, null, null, null, null, null, null, null, null, null, null, null, null, null, null, null, null, null, null, null, null, null, null, null, null, null, null, null, null, null, null, null, null, null, null, null, null, null, null, null, null, null, null, null, null, null, null, null, null, null, null, null, null, null], \"y_values\": [28, 5, 7, 8, 10, 11, 5, 12, 6, 18, 20, 26, 24, 19, 29, 16, 28, 27, 3, 11, 28, 20, 12, 12, 14, 14, 5, 5, 26, 16, 16, 6, 6, 17, 28, 18, 18, 18, 18, 7, 7, 7, 7, 19, 19, 8, 21, 22, 22, 9, 9, 9, 23, 23, 23, 24, 24, 10, 10, 10, 10, 10, 10, 26, 11, 11, 11, 11, 27, 27, 27, 12, 12, 12, 12, 12, 29, 13, 13, 13, 14, 14, 14, 14, 14, 14, 14, 14, 14, 14, 15, 15, 15, 16, 16, 16, 16, 17, 17, 17, 17, 17, 18, 18, 18, 18, 18, 19, 19, 19, 19, 19, 19, 19, 20, 20, 20, 21, 21, 21, 21, 21, 21, 22, 23, 23, 23, 24, 24, 24, 24, 25, 25, 25, 25, 26, 26, 26, 26, 26, 27, 28, 28, 28, 29, 30]}}, \"type\": \"ColumnDataSource\", \"id\": \"1d6d6b03-d27e-4534-a286-b6da49bcf0f7\"}, {\"attributes\": {}, \"type\": \"BasicTickFormatter\", \"id\": \"ee4b55d3-dd41-4c12-985f-9ab07811cf26\"}, {\"attributes\": {\"nonselection_glyph\": null, \"data_source\": {\"type\": \"ColumnDataSource\", \"id\": \"1d6d6b03-d27e-4534-a286-b6da49bcf0f7\"}, \"selection_glyph\": null, \"hover_glyph\": null, \"glyph\": {\"type\": \"Circle\", \"id\": \"7d342bb1-81f0-4c4a-a6f2-21eda21e0b85\"}}, \"type\": \"GlyphRenderer\", \"id\": \"4019d656-e461-4335-8644-460b7a404dfb\"}, {\"attributes\": {\"plot\": {\"subtype\": \"Chart\", \"type\": \"Plot\", \"id\": \"b016618a-1516-4107-bbeb-65ee13d63d82\"}, \"overlay\": {\"type\": \"BoxAnnotation\", \"id\": \"18da2f61-5a8e-4f7f-b9c4-916d51b25c36\"}}, \"type\": \"BoxZoomTool\", \"id\": \"d1782baf-abd4-493a-bf83-4e739be8378b\"}, {\"attributes\": {}, \"type\": \"ToolEvents\", \"id\": \"85e8298e-ef5e-47f4-8fb1-69f65f9903ca\"}, {\"attributes\": {\"callback\": null, \"column_names\": [\"x_values\", \"y_values\"], \"data\": {\"x_values\": [12.576302516688592, 6.111998568387956, 5.44729136618332, 5.44729136618332, 5.44729136618332, 5.44729136618332, 4.56101509657714, 4.56101509657714, 4.56101509657714, 4.56101509657714, 4.56101509657714, 4.56101509657714, 4.56101509657714, 4.56101509657714, 3.722360332345957, 3.3202283191284883, 3.3202283191284883, 3.3202283191284883, 3.3087647398630726, 2.791770249259468, 2.791770249259468, 2.791770249259468, 2.127063047054832, 2.127063047054832, 2.127063047054832, 2.127063047054832, 2.127063047054832, 2.127063047054832, 2.127063047054832, 2.127063047054832, 2.127063047054832, 2.127063047054832, 2.127063047054832, 2.127063047054832, 2.127063047054832, 2.127063047054832, 2.127063047054832, 2.127063047054832, 2.127063047054832, 2.127063047054832, 2.127063047054832, 2.127063047054832, 2.127063047054832, 2.127063047054832, 2.127063047054832, 2.127063047054832, 2.127063047054832, 2.127063047054832, 2.127063047054832, 1.2407867774486523, 1.2407867774486523, 1.2407867774486523, 1.2407867774486523, 1.2407867774486523, 1.2407867774486523, 1.2407867774486523, 1.2407867774486523, 1.2407867774486523, 1.2407867774486523, 1.2407867774486523, 1.2407867774486523, 1.2407867774486523, 1.2407867774486523, 1.2407867774486523, 1.2407867774486523, 1.2407867774486523, 1.2407867774486523, 1.2407867774486523, 1.2407867774486523, 1.2407867774486523, 1.2407867774486523, 1.2407867774486523, 1.2407867774486523, 1.2407867774486523, 1.2407867774486523, 1.2407867774486523, 1.2407867774486523, 1.2407867774486523, 1.2407867774486523, 1.2407867774486523, 1.2407867774486523, 1.2407867774486523, 1.2407867774486523, 1.2407867774486523, 1.2407867774486523, 1.2407867774486523, 1.2407867774486523, 1.2407867774486523, 1.2407867774486523, 1.2407867774486523, 1.2407867774486523, 1.2407867774486523, 1.2407867774486523, 1.2407867774486523, 1.2407867774486523, 1.2407867774486523, 1.2407867774486523, 1.2407867774486523, 1.2407867774486523, 1.2407867774486523, 1.2407867774486523, 1.2407867774486523, 1.2407867774486523, 1.2407867774486523, 1.2407867774486523, 1.2407867774486523, 1.2407867774486523, 1.2407867774486523, 1.2407867774486523, 1.2407867774486523, 1.2407867774486523, 1.2407867774486523, 1.2407867774486523, 1.2407867774486523, 1.2407867774486523, 1.2407867774486523, 1.2407867774486523, 1.2407867774486523, 1.2407867774486523, 1.2407867774486523, 1.2407867774486523, 1.2407867774486523, 1.2407867774486523, 1.2407867774486523, 1.2407867774486523, 1.2407867774486523, 1.2407867774486523, 1.2407867774486523, 1.2407867774486523, 1.2407867774486523, 1.2407867774486523, 1.2407867774486523, 1.2407867774486523, 1.2407867774486523, 1.2407867774486523, 1.2407867774486523, 1.2407867774486523, 1.2407867774486523, 1.2407867774486523, 1.2407867774486523, 1.2407867774486523, 1.2407867774486523, 1.2407867774486523, 1.2407867774486523, 1.2407867774486523, 1.2407867774486523], \"chart_index\": [null, null, null, null, null, null, null, null, null, null, null, null, null, null, null, null, null, null, null, null, null, null, null, null, null, null, null, null, null, null, null, null, null, null, null, null, null, null, null, null, null, null, null, null, null, null, null, null, null, null, null, null, null, null, null, null, null, null, null, null, null, null, null, null, null, null, null, null, null, null, null, null, null, null, null, null, null, null, null, null, null, null, null, null, null, null, null, null, null, null, null, null, null, null, null, null, null, null, null, null, null, null, null, null, null, null, null, null, null, null, null, null, null, null, null, null, null, null, null, null, null, null, null, null, null, null, null, null, null, null, null, null, null, null, null, null, null, null, null, null, null, null, null, null, null, null], \"y_values\": [28, 26, 20, 29, 24, 18, 12, 10, 11, 19, 28, 5, 7, 8, 27, 5, 6, 16, 28, 26, 20, 28, 14, 29, 23, 12, 27, 22, 19, 14, 27, 24, 19, 11, 18, 17, 18, 21, 27, 16, 24, 18, 16, 26, 23, 18, 22, 12, 23, 19, 28, 13, 26, 23, 30, 3, 15, 19, 25, 23, 21, 23, 5, 11, 14, 16, 16, 7, 14, 12, 27, 16, 14, 12, 5, 10, 15, 9, 25, 6, 21, 20, 21, 25, 14, 28, 24, 10, 7, 17, 18, 14, 14, 19, 26, 10, 10, 7, 12, 26, 14, 17, 6, 11, 10, 20, 21, 18, 15, 14, 17, 7, 14, 11, 12, 8, 18, 14, 9, 19, 18, 16, 10, 24, 22, 13, 17, 20, 17, 19, 19, 28, 18, 25, 9, 21, 21, 26, 19, 13, 29, 24, 26, 24, 11, 12]}}, \"type\": \"ColumnDataSource\", \"id\": \"ecccd422-69b6-463d-891c-f555ffafe8f8\"}, {\"attributes\": {}, \"type\": \"BasicTicker\", \"id\": \"c0899e25-21d5-4b4a-a929-86670bd1522c\"}, {\"attributes\": {\"plot\": {\"subtype\": \"Chart\", \"type\": \"Plot\", \"id\": \"8597c82d-eed2-4fe1-826e-502ce215c897\"}, \"axis_label\": \"score\", \"formatter\": {\"type\": \"BasicTickFormatter\", \"id\": \"14f3f63a-9481-4150-82ca-9b48bdfaac42\"}, \"ticker\": {\"type\": \"BasicTicker\", \"id\": \"adfc080f-87e1-4e65-a605-14f09a8b31cf\"}}, \"type\": \"LinearAxis\", \"id\": \"32c7f2a6-fb74-4354-a404-69c5df471572\"}, {\"attributes\": {\"plot\": {\"subtype\": \"Chart\", \"type\": \"Plot\", \"id\": \"b016618a-1516-4107-bbeb-65ee13d63d82\"}, \"ticker\": {\"type\": \"BasicTicker\", \"id\": \"e609c262-6b90-44e6-b173-5f0f9fea11d8\"}}, \"type\": \"Grid\", \"id\": \"bcd96269-f871-4d41-80b0-5057cd9e1c0f\"}, {\"attributes\": {\"callback\": null, \"end\": 13.709854090612586, \"start\": 0.1072352035246582}, \"type\": \"Range1d\", \"id\": \"2905a676-95ce-4e82-88c4-623eeecfe7c5\"}, {\"attributes\": {\"plot\": {\"subtype\": \"Chart\", \"type\": \"Plot\", \"id\": \"2df31d7d-bbda-4ecb-aec7-3b50a32e2275\"}}, \"type\": \"WheelZoomTool\", \"id\": \"f13756dc-3caf-45b2-be7a-c8ab9025e6d3\"}, {\"attributes\": {\"nonselection_glyph\": null, \"data_source\": {\"type\": \"ColumnDataSource\", \"id\": \"298a1597-f143-4070-aa0a-3aa5a3aa2b96\"}, \"selection_glyph\": null, \"hover_glyph\": null, \"glyph\": {\"type\": \"Circle\", \"id\": \"582335d1-b5c5-4b6b-ade8-ef54c44200a5\"}}, \"type\": \"GlyphRenderer\", \"id\": \"090fc929-37ef-4be6-ab60-2ece0cb1b837\"}, {\"attributes\": {\"plot\": {\"subtype\": \"Chart\", \"type\": \"Plot\", \"id\": \"b016618a-1516-4107-bbeb-65ee13d63d82\"}}, \"type\": \"WheelZoomTool\", \"id\": \"d839791b-f739-4c38-93b9-9e9a1a7c955f\"}, {\"attributes\": {\"plot\": {\"subtype\": \"Chart\", \"type\": \"Plot\", \"id\": \"f87e5882-9ded-41c0-accc-cc72a118f3df\"}}, \"type\": \"ResetTool\", \"id\": \"03b9dcff-7b82-4600-93d6-cb46978ea774\"}, {\"attributes\": {\"plot\": {\"subtype\": \"Chart\", \"type\": \"Plot\", \"id\": \"8597c82d-eed2-4fe1-826e-502ce215c897\"}, \"ticker\": {\"type\": \"BasicTicker\", \"id\": \"adfc080f-87e1-4e65-a605-14f09a8b31cf\"}}, \"type\": \"Grid\", \"id\": \"717b8c74-ed74-4be4-bc24-6f5cc53c23cc\"}, {\"attributes\": {\"plot\": {\"subtype\": \"Chart\", \"type\": \"Plot\", \"id\": \"8597c82d-eed2-4fe1-826e-502ce215c897\"}, \"ticker\": {\"type\": \"BasicTicker\", \"id\": \"7e7debe1-c947-4ebc-a092-59fc6a4b7735\"}, \"dimension\": 1}, \"type\": \"Grid\", \"id\": \"f5bbaeac-7277-4fb0-bb0c-a4f27adf4324\"}, {\"attributes\": {\"plot\": {\"subtype\": \"Chart\", \"type\": \"Plot\", \"id\": \"f87e5882-9ded-41c0-accc-cc72a118f3df\"}}, \"type\": \"WheelZoomTool\", \"id\": \"de346c28-e4ec-4cb1-9e28-4742fb77e17b\"}, {\"attributes\": {\"line_color\": {\"value\": \"#f22c40\"}, \"fill_color\": {\"value\": \"#f22c40\"}, \"fill_alpha\": {\"value\": 0.7}, \"y\": {\"field\": \"y_values\"}, \"x\": {\"field\": \"x_values\"}, \"size\": {\"units\": \"screen\", \"value\": 8}}, \"type\": \"Circle\", \"id\": \"2bc5e974-df56-4b07-b98f-d7bb94e5584d\"}, {\"attributes\": {\"x_range\": {\"type\": \"Range1d\", \"id\": \"ef7d82c6-7b1b-4ce5-bb19-ba351df47c5b\"}, \"y_mapper_type\": \"auto\", \"title_text_font_size\": {\"value\": \"14pt\"}, \"yscale\": \"auto\", \"y_range\": {\"type\": \"Range1d\", \"id\": \"ffb6a13c-0f41-4875-b862-dd814133cd05\"}, \"x_mapper_type\": \"auto\", \"renderers\": [{\"type\": \"BoxAnnotation\", \"id\": \"2c69c428-e6ad-4767-8349-e86dc02ec6d8\"}, {\"type\": \"GlyphRenderer\", \"id\": \"090fc929-37ef-4be6-ab60-2ece0cb1b837\"}, {\"type\": \"LinearAxis\", \"id\": \"3cc4bc43-306e-4265-85e6-334093482688\"}, {\"type\": \"LinearAxis\", \"id\": \"27feaca7-663f-4cd6-a7c1-a79805d6d517\"}, {\"type\": \"Grid\", \"id\": \"4e5eac50-31b0-49b9-940b-0ade5983e711\"}, {\"type\": \"Grid\", \"id\": \"25132e37-9165-4a8a-a6e4-ca38d7c3e4da\"}], \"below\": [{\"type\": \"LinearAxis\", \"id\": \"3cc4bc43-306e-4265-85e6-334093482688\"}], \"tool_events\": {\"type\": \"ToolEvents\", \"id\": \"6e1ea01d-de6b-4cd5-b68c-f5df4439e382\"}, \"xscale\": \"auto\", \"tools\": [{\"type\": \"PanTool\", \"id\": \"cb701e5a-7fa3-492f-be6a-a8693dd2ea93\"}, {\"type\": \"WheelZoomTool\", \"id\": \"de346c28-e4ec-4cb1-9e28-4742fb77e17b\"}, {\"type\": \"BoxZoomTool\", \"id\": \"20182a52-088f-4726-8ae2-f04497f7f5b3\"}, {\"type\": \"PreviewSaveTool\", \"id\": \"bc281dc4-3c19-4098-839a-dacb2409c449\"}, {\"type\": \"ResizeTool\", \"id\": \"fef5176c-287a-4a53-92a0-c595e4b397e8\"}, {\"type\": \"ResetTool\", \"id\": \"03b9dcff-7b82-4600-93d6-cb46978ea774\"}, {\"type\": \"HelpTool\", \"id\": \"56411129-b1f3-490d-a77e-46a4f59f7d19\"}], \"legend\": null, \"left\": [{\"type\": \"LinearAxis\", \"id\": \"27feaca7-663f-4cd6-a7c1-a79805d6d517\"}]}, \"type\": \"Plot\", \"id\": \"f87e5882-9ded-41c0-accc-cc72a118f3df\", \"subtype\": \"Chart\"}, {\"attributes\": {}, \"type\": \"BasicTicker\", \"id\": \"7e7debe1-c947-4ebc-a092-59fc6a4b7735\"}, {\"attributes\": {\"plot\": {\"subtype\": \"Chart\", \"type\": \"Plot\", \"id\": \"8597c82d-eed2-4fe1-826e-502ce215c897\"}}, \"type\": \"HelpTool\", \"id\": \"be197a2d-aa3f-4952-8187-9336ca423356\"}, {\"attributes\": {\"plot\": {\"subtype\": \"Chart\", \"type\": \"Plot\", \"id\": \"f87e5882-9ded-41c0-accc-cc72a118f3df\"}}, \"type\": \"PreviewSaveTool\", \"id\": \"bc281dc4-3c19-4098-839a-dacb2409c449\"}, {\"attributes\": {\"plot\": {\"subtype\": \"Chart\", \"type\": \"Plot\", \"id\": \"f87e5882-9ded-41c0-accc-cc72a118f3df\"}}, \"type\": \"HelpTool\", \"id\": \"56411129-b1f3-490d-a77e-46a4f59f7d19\"}, {\"attributes\": {\"plot\": {\"subtype\": \"Chart\", \"type\": \"Plot\", \"id\": \"b016618a-1516-4107-bbeb-65ee13d63d82\"}, \"axis_label\": \"score\", \"formatter\": {\"type\": \"BasicTickFormatter\", \"id\": \"07b389a9-07c5-4e93-bb84-78dee7db264e\"}, \"ticker\": {\"type\": \"BasicTicker\", \"id\": \"e609c262-6b90-44e6-b173-5f0f9fea11d8\"}}, \"type\": \"LinearAxis\", \"id\": \"50a073c1-2806-460d-b1f1-3680546b0f0d\"}, {\"attributes\": {\"line_color\": {\"value\": \"black\"}, \"line_alpha\": {\"value\": 1.0}, \"render_mode\": \"css\", \"bottom_units\": \"screen\", \"level\": \"overlay\", \"top_units\": \"screen\", \"fill_alpha\": {\"value\": 0.5}, \"plot\": null, \"left_units\": \"screen\", \"line_dash\": [4, 4], \"line_width\": {\"value\": 2}, \"right_units\": \"screen\", \"fill_color\": {\"value\": \"lightgrey\"}}, \"type\": \"BoxAnnotation\", \"id\": \"53e3c4ba-a05b-4c03-beda-1bf32531a3b1\"}, {\"attributes\": {\"x_range\": {\"type\": \"Range1d\", \"id\": \"b6ae79b8-39a1-4a69-820a-b7d477e7b32d\"}, \"y_mapper_type\": \"auto\", \"title_text_font_size\": {\"value\": \"14pt\"}, \"yscale\": \"auto\", \"y_range\": {\"type\": \"Range1d\", \"id\": \"f539202d-f0e1-4509-bdef-44b83dc0d7b2\"}, \"x_mapper_type\": \"auto\", \"renderers\": [{\"type\": \"BoxAnnotation\", \"id\": \"53e3c4ba-a05b-4c03-beda-1bf32531a3b1\"}, {\"type\": \"GlyphRenderer\", \"id\": \"4019d656-e461-4335-8644-460b7a404dfb\"}, {\"type\": \"LinearAxis\", \"id\": \"a018da39-3d48-4ece-a2d0-3d4e80af9f7e\"}, {\"type\": \"LinearAxis\", \"id\": \"0269dcce-7552-4d1f-9eae-ef81b70c65fe\"}, {\"type\": \"Grid\", \"id\": \"cb0406e4-bb54-4c00-8695-f9c35f6678de\"}, {\"type\": \"Grid\", \"id\": \"f2c2dd8f-74d8-4641-8ed4-ed37c048c94a\"}], \"below\": [{\"type\": \"LinearAxis\", \"id\": \"a018da39-3d48-4ece-a2d0-3d4e80af9f7e\"}], \"tool_events\": {\"type\": \"ToolEvents\", \"id\": \"75306b49-93d2-4fbc-80ea-40a0bf47ef01\"}, \"xscale\": \"auto\", \"tools\": [{\"type\": \"PanTool\", \"id\": \"1416d8b5-7953-4f01-baf3-8e9faab8ad62\"}, {\"type\": \"WheelZoomTool\", \"id\": \"f13756dc-3caf-45b2-be7a-c8ab9025e6d3\"}, {\"type\": \"BoxZoomTool\", \"id\": \"90a8e293-3426-414e-8f02-e3850cd2edeb\"}, {\"type\": \"PreviewSaveTool\", \"id\": \"e66a6d70-2b83-4fd5-b477-8bdfabdad86c\"}, {\"type\": \"ResizeTool\", \"id\": \"7eaf6dd2-9b77-4079-9909-d3be41fad310\"}, {\"type\": \"ResetTool\", \"id\": \"79aac02e-e964-4938-93b6-3f79a3bb2118\"}, {\"type\": \"HelpTool\", \"id\": \"35dd5556-a266-482d-88df-ca320cfc9666\"}], \"legend\": null, \"left\": [{\"type\": \"LinearAxis\", \"id\": \"0269dcce-7552-4d1f-9eae-ef81b70c65fe\"}]}, \"type\": \"Plot\", \"id\": \"2df31d7d-bbda-4ecb-aec7-3b50a32e2275\", \"subtype\": \"Chart\"}, {\"attributes\": {\"plot\": {\"subtype\": \"Chart\", \"type\": \"Plot\", \"id\": \"b016618a-1516-4107-bbeb-65ee13d63d82\"}, \"ticker\": {\"type\": \"BasicTicker\", \"id\": \"c0899e25-21d5-4b4a-a929-86670bd1522c\"}, \"dimension\": 1}, \"type\": \"Grid\", \"id\": \"4ed92198-9f02-4131-b1a7-64391d1e7b62\"}, {\"attributes\": {}, \"type\": \"BasicTicker\", \"id\": \"ce5a86fc-85e4-4564-8b57-a969833f259e\"}, {\"attributes\": {\"plot\": {\"subtype\": \"Chart\", \"type\": \"Plot\", \"id\": \"2df31d7d-bbda-4ecb-aec7-3b50a32e2275\"}}, \"type\": \"HelpTool\", \"id\": \"35dd5556-a266-482d-88df-ca320cfc9666\"}, {\"attributes\": {\"plot\": {\"subtype\": \"Chart\", \"type\": \"Plot\", \"id\": \"8597c82d-eed2-4fe1-826e-502ce215c897\"}}, \"type\": \"WheelZoomTool\", \"id\": \"2bbb4d91-80ee-40b0-851e-c2902104c560\"}, {\"attributes\": {}, \"type\": \"ToolEvents\", \"id\": \"75306b49-93d2-4fbc-80ea-40a0bf47ef01\"}, {\"attributes\": {\"callback\": null, \"end\": 32.7, \"start\": 0.2999999999999998}, \"type\": \"Range1d\", \"id\": \"0b79082c-4e67-4ff5-b483-1b5628a41c16\"}, {\"attributes\": {\"plot\": {\"subtype\": \"Chart\", \"type\": \"Plot\", \"id\": \"f87e5882-9ded-41c0-accc-cc72a118f3df\"}, \"ticker\": {\"type\": \"BasicTicker\", \"id\": \"f976e146-f78b-414f-88fd-b7e385d8df9a\"}}, \"type\": \"Grid\", \"id\": \"4e5eac50-31b0-49b9-940b-0ade5983e711\"}, {\"attributes\": {\"x_range\": {\"type\": \"Range1d\", \"id\": \"2905a676-95ce-4e82-88c4-623eeecfe7c5\"}, \"y_mapper_type\": \"auto\", \"title_text_font_size\": {\"value\": \"14pt\"}, \"yscale\": \"auto\", \"y_range\": {\"type\": \"Range1d\", \"id\": \"60281d6c-1cc3-4034-a971-1021ff0cb262\"}, \"x_mapper_type\": \"auto\", \"renderers\": [{\"type\": \"BoxAnnotation\", \"id\": \"94636878-bfdb-4430-b29e-4e45d84e180b\"}, {\"type\": \"GlyphRenderer\", \"id\": \"af42906a-2620-47b0-8024-e14acfe7513d\"}, {\"type\": \"LinearAxis\", \"id\": \"32c7f2a6-fb74-4354-a404-69c5df471572\"}, {\"type\": \"LinearAxis\", \"id\": \"1a964064-6525-4f9f-9dfc-b1dddc8143b8\"}, {\"type\": \"Grid\", \"id\": \"717b8c74-ed74-4be4-bc24-6f5cc53c23cc\"}, {\"type\": \"Grid\", \"id\": \"f5bbaeac-7277-4fb0-bb0c-a4f27adf4324\"}], \"below\": [{\"type\": \"LinearAxis\", \"id\": \"32c7f2a6-fb74-4354-a404-69c5df471572\"}], \"tool_events\": {\"type\": \"ToolEvents\", \"id\": \"c95ef1d9-6218-4e69-b782-a70755784eb1\"}, \"xscale\": \"auto\", \"tools\": [{\"type\": \"PanTool\", \"id\": \"8a7076d2-18a4-4ffe-b40c-b538318c39aa\"}, {\"type\": \"WheelZoomTool\", \"id\": \"2bbb4d91-80ee-40b0-851e-c2902104c560\"}, {\"type\": \"BoxZoomTool\", \"id\": \"24f8228d-043c-467b-b2a3-2aece445fb80\"}, {\"type\": \"PreviewSaveTool\", \"id\": \"caa4c72a-8d05-47b9-815b-97019ed5e75e\"}, {\"type\": \"ResizeTool\", \"id\": \"d1bb2ffb-1f5f-493c-b6c4-d0f4b5bd003d\"}, {\"type\": \"ResetTool\", \"id\": \"48812b4c-8d45-4a98-871c-37af04b7338f\"}, {\"type\": \"HelpTool\", \"id\": \"be197a2d-aa3f-4952-8187-9336ca423356\"}], \"legend\": null, \"left\": [{\"type\": \"LinearAxis\", \"id\": \"1a964064-6525-4f9f-9dfc-b1dddc8143b8\"}]}, \"type\": \"Plot\", \"id\": \"8597c82d-eed2-4fe1-826e-502ce215c897\", \"subtype\": \"Chart\"}, {\"attributes\": {\"plot\": {\"subtype\": \"Chart\", \"type\": \"Plot\", \"id\": \"8597c82d-eed2-4fe1-826e-502ce215c897\"}, \"axis_label\": \"length\", \"formatter\": {\"type\": \"BasicTickFormatter\", \"id\": \"ee4b55d3-dd41-4c12-985f-9ab07811cf26\"}, \"ticker\": {\"type\": \"BasicTicker\", \"id\": \"7e7debe1-c947-4ebc-a092-59fc6a4b7735\"}}, \"type\": \"LinearAxis\", \"id\": \"1a964064-6525-4f9f-9dfc-b1dddc8143b8\"}, {\"attributes\": {\"plot\": {\"subtype\": \"Chart\", \"type\": \"Plot\", \"id\": \"2df31d7d-bbda-4ecb-aec7-3b50a32e2275\"}, \"axis_label\": \"length\", \"formatter\": {\"type\": \"BasicTickFormatter\", \"id\": \"0a5bf671-7a29-49ec-9929-367ef8a10127\"}, \"ticker\": {\"type\": \"BasicTicker\", \"id\": \"ce5a86fc-85e4-4564-8b57-a969833f259e\"}}, \"type\": \"LinearAxis\", \"id\": \"0269dcce-7552-4d1f-9eae-ef81b70c65fe\"}, {\"attributes\": {}, \"type\": \"BasicTickFormatter\", \"id\": \"c3cdd780-976b-40c3-ba39-d5e4dfc6d9f1\"}, {\"attributes\": {\"line_color\": {\"value\": \"#f22c40\"}, \"fill_color\": {\"value\": \"#f22c40\"}, \"fill_alpha\": {\"value\": 0.7}, \"y\": {\"field\": \"y_values\"}, \"x\": {\"field\": \"x_values\"}, \"size\": {\"units\": \"screen\", \"value\": 8}}, \"type\": \"Circle\", \"id\": \"7d342bb1-81f0-4c4a-a6f2-21eda21e0b85\"}, {\"attributes\": {\"callback\": null, \"end\": 10.926994478923916, \"start\": 0.36022244095090117}, \"type\": \"Range1d\", \"id\": \"77563d68-12cf-4d35-8880-934931bf9dab\"}, {\"attributes\": {\"plot\": {\"subtype\": \"Chart\", \"type\": \"Plot\", \"id\": \"f87e5882-9ded-41c0-accc-cc72a118f3df\"}}, \"type\": \"PanTool\", \"id\": \"cb701e5a-7fa3-492f-be6a-a8693dd2ea93\"}, {\"attributes\": {\"plot\": {\"subtype\": \"Chart\", \"type\": \"Plot\", \"id\": \"f87e5882-9ded-41c0-accc-cc72a118f3df\"}, \"axis_label\": \"score\", \"formatter\": {\"type\": \"BasicTickFormatter\", \"id\": \"9c154cf3-248f-4e7a-bbf5-6c5a3ee4b286\"}, \"ticker\": {\"type\": \"BasicTicker\", \"id\": \"f976e146-f78b-414f-88fd-b7e385d8df9a\"}}, \"type\": \"LinearAxis\", \"id\": \"3cc4bc43-306e-4265-85e6-334093482688\"}, {\"attributes\": {}, \"type\": \"BasicTickFormatter\", \"id\": \"0c72c1a2-94cb-4b30-8568-35594ba03f6c\"}, {\"attributes\": {\"callback\": null, \"end\": 32.7, \"start\": 0.2999999999999998}, \"type\": \"Range1d\", \"id\": \"f539202d-f0e1-4509-bdef-44b83dc0d7b2\"}, {\"attributes\": {\"callback\": null, \"end\": 8.300705773342925, \"start\": 0.041359931002561745}, \"type\": \"Range1d\", \"id\": \"b6ae79b8-39a1-4a69-820a-b7d477e7b32d\"}, {\"attributes\": {\"nonselection_glyph\": null, \"data_source\": {\"type\": \"ColumnDataSource\", \"id\": \"ecccd422-69b6-463d-891c-f555ffafe8f8\"}, \"selection_glyph\": null, \"hover_glyph\": null, \"glyph\": {\"type\": \"Circle\", \"id\": \"e6adf275-7564-4019-be5f-782527bd33e7\"}}, \"type\": \"GlyphRenderer\", \"id\": \"af42906a-2620-47b0-8024-e14acfe7513d\"}, {\"attributes\": {\"plot\": {\"subtype\": \"Chart\", \"type\": \"Plot\", \"id\": \"b016618a-1516-4107-bbeb-65ee13d63d82\"}}, \"type\": \"HelpTool\", \"id\": \"598bdf3e-87ae-499a-881a-707d92a3f45e\"}, {\"attributes\": {\"plot\": {\"subtype\": \"Chart\", \"type\": \"Plot\", \"id\": \"b016618a-1516-4107-bbeb-65ee13d63d82\"}}, \"type\": \"ResizeTool\", \"id\": \"da35b0c8-936d-459f-b56e-c00693cb234e\"}, {\"attributes\": {\"plot\": {\"subtype\": \"Chart\", \"type\": \"Plot\", \"id\": \"8597c82d-eed2-4fe1-826e-502ce215c897\"}}, \"type\": \"PreviewSaveTool\", \"id\": \"caa4c72a-8d05-47b9-815b-97019ed5e75e\"}, {\"attributes\": {\"plot\": {\"subtype\": \"Chart\", \"type\": \"Plot\", \"id\": \"f87e5882-9ded-41c0-accc-cc72a118f3df\"}}, \"type\": \"ResizeTool\", \"id\": \"fef5176c-287a-4a53-92a0-c595e4b397e8\"}, {\"attributes\": {\"plot\": {\"subtype\": \"Chart\", \"type\": \"Plot\", \"id\": \"2df31d7d-bbda-4ecb-aec7-3b50a32e2275\"}}, \"type\": \"PanTool\", \"id\": \"1416d8b5-7953-4f01-baf3-8e9faab8ad62\"}, {\"attributes\": {\"callback\": null, \"end\": 32.7, \"start\": 0.2999999999999998}, \"type\": \"Range1d\", \"id\": \"ffb6a13c-0f41-4875-b862-dd814133cd05\"}, {\"attributes\": {\"line_color\": {\"value\": \"black\"}, \"line_alpha\": {\"value\": 1.0}, \"render_mode\": \"css\", \"bottom_units\": \"screen\", \"level\": \"overlay\", \"top_units\": \"screen\", \"fill_alpha\": {\"value\": 0.5}, \"plot\": null, \"left_units\": \"screen\", \"line_dash\": [4, 4], \"line_width\": {\"value\": 2}, \"right_units\": \"screen\", \"fill_color\": {\"value\": \"lightgrey\"}}, \"type\": \"BoxAnnotation\", \"id\": \"94636878-bfdb-4430-b29e-4e45d84e180b\"}, {\"attributes\": {\"plot\": {\"subtype\": \"Chart\", \"type\": \"Plot\", \"id\": \"f87e5882-9ded-41c0-accc-cc72a118f3df\"}, \"ticker\": {\"type\": \"BasicTicker\", \"id\": \"d00f781a-3e49-4154-ad92-e849e5db2479\"}, \"dimension\": 1}, \"type\": \"Grid\", \"id\": \"25132e37-9165-4a8a-a6e4-ca38d7c3e4da\"}, {\"attributes\": {}, \"type\": \"BasicTicker\", \"id\": \"f976e146-f78b-414f-88fd-b7e385d8df9a\"}, {\"attributes\": {}, \"type\": \"BasicTickFormatter\", \"id\": \"07b389a9-07c5-4e93-bb84-78dee7db264e\"}, {\"attributes\": {\"plot\": {\"subtype\": \"Chart\", \"type\": \"Plot\", \"id\": \"8597c82d-eed2-4fe1-826e-502ce215c897\"}}, \"type\": \"PanTool\", \"id\": \"8a7076d2-18a4-4ffe-b40c-b538318c39aa\"}, {\"attributes\": {\"plot\": {\"subtype\": \"Chart\", \"type\": \"Plot\", \"id\": \"f87e5882-9ded-41c0-accc-cc72a118f3df\"}, \"overlay\": {\"type\": \"BoxAnnotation\", \"id\": \"2c69c428-e6ad-4767-8349-e86dc02ec6d8\"}}, \"type\": \"BoxZoomTool\", \"id\": \"20182a52-088f-4726-8ae2-f04497f7f5b3\"}, {\"attributes\": {\"callback\": null, \"end\": 9.885534079951618, \"start\": 0.19865394654736523}, \"type\": \"Range1d\", \"id\": \"ef7d82c6-7b1b-4ce5-bb19-ba351df47c5b\"}, {\"attributes\": {\"nonselection_glyph\": null, \"data_source\": {\"type\": \"ColumnDataSource\", \"id\": \"dd764596-870a-436e-a623-f66923433bf0\"}, \"selection_glyph\": null, \"hover_glyph\": null, \"glyph\": {\"type\": \"Circle\", \"id\": \"2bc5e974-df56-4b07-b98f-d7bb94e5584d\"}}, \"type\": \"GlyphRenderer\", \"id\": \"115eed66-fa45-45e8-96fa-ae37eeb0024e\"}, {\"attributes\": {\"line_color\": {\"value\": \"#f22c40\"}, \"fill_color\": {\"value\": \"#f22c40\"}, \"fill_alpha\": {\"value\": 0.7}, \"y\": {\"field\": \"y_values\"}, \"x\": {\"field\": \"x_values\"}, \"size\": {\"units\": \"screen\", \"value\": 8}}, \"type\": \"Circle\", \"id\": \"e6adf275-7564-4019-be5f-782527bd33e7\"}, {\"attributes\": {}, \"type\": \"ToolEvents\", \"id\": \"c95ef1d9-6218-4e69-b782-a70755784eb1\"}, {\"attributes\": {}, \"type\": \"BasicTicker\", \"id\": \"adfc080f-87e1-4e65-a605-14f09a8b31cf\"}, {\"attributes\": {}, \"type\": \"BasicTickFormatter\", \"id\": \"0a5bf671-7a29-49ec-9929-367ef8a10127\"}, {\"attributes\": {\"plot\": {\"subtype\": \"Chart\", \"type\": \"Plot\", \"id\": \"b016618a-1516-4107-bbeb-65ee13d63d82\"}}, \"type\": \"ResetTool\", \"id\": \"01ad4bcc-0890-4632-b2e9-41a74612af44\"}, {\"attributes\": {\"plot\": {\"subtype\": \"Chart\", \"type\": \"Plot\", \"id\": \"8597c82d-eed2-4fe1-826e-502ce215c897\"}}, \"type\": \"ResetTool\", \"id\": \"48812b4c-8d45-4a98-871c-37af04b7338f\"}, {\"attributes\": {\"plot\": {\"subtype\": \"Chart\", \"type\": \"Plot\", \"id\": \"8597c82d-eed2-4fe1-826e-502ce215c897\"}}, \"type\": \"ResizeTool\", \"id\": \"d1bb2ffb-1f5f-493c-b6c4-d0f4b5bd003d\"}, {\"attributes\": {\"plot\": {\"subtype\": \"Chart\", \"type\": \"Plot\", \"id\": \"b016618a-1516-4107-bbeb-65ee13d63d82\"}}, \"type\": \"PanTool\", \"id\": \"3b07d816-c8a3-4894-abc0-4d88fff65ad0\"}, {\"attributes\": {\"plot\": {\"subtype\": \"Chart\", \"type\": \"Plot\", \"id\": \"8597c82d-eed2-4fe1-826e-502ce215c897\"}, \"overlay\": {\"type\": \"BoxAnnotation\", \"id\": \"94636878-bfdb-4430-b29e-4e45d84e180b\"}}, \"type\": \"BoxZoomTool\", \"id\": \"24f8228d-043c-467b-b2a3-2aece445fb80\"}, {\"attributes\": {\"plot\": {\"subtype\": \"Chart\", \"type\": \"Plot\", \"id\": \"2df31d7d-bbda-4ecb-aec7-3b50a32e2275\"}, \"ticker\": {\"type\": \"BasicTicker\", \"id\": \"ce5a86fc-85e4-4564-8b57-a969833f259e\"}, \"dimension\": 1}, \"type\": \"Grid\", \"id\": \"f2c2dd8f-74d8-4641-8ed4-ed37c048c94a\"}, {\"attributes\": {\"callback\": null, \"column_names\": [\"x_values\", \"y_values\"], \"data\": {\"x_values\": [9.078294068834598, 5.124103380105183, 4.970687111239758, 4.94422646934567, 4.939082900470256, 4.897373142047432, 4.824790904821388, 4.757047264051803, 4.6898573309437275, 4.624538983716098, 4.611536061312539, 4.370333460419053, 4.213729683132181, 3.781798394428426, 3.7301330498850915, 3.6734440977591785, 3.1888208658648276, 2.6567434528900553, 2.405573299554245, 2.232189721538597, 2.127063047054832, 2.094187265802053, 1.9722549650275523, 1.9509563152972331, 1.9509563152972331, 1.9097098815700186, 1.9097098815700186, 1.870171374705215, 1.870171374705215, 1.8510097827512686, 1.8322368640621072, 1.8322368640621072, 1.8322368640621072, 1.8322368640621072, 1.8138409116116845, 1.8138409116116845, 1.7781353818555492, 1.7608046276464302, 1.7608046276464302, 1.7438084439818897, 1.7438084439818897, 1.7438084439818897, 1.7271372351484107, 1.7271372351484107, 1.6947331594420618, 1.6789828512688083, 1.6789828512688083, 1.6789828512688083, 1.6483444780704724, 1.43836428978124, 1.3939703302200908, 1.3939703302200908, 1.3727853707942537, 1.3727853707942537, 1.3522346915907468, 1.3522346915907468, 1.3522346915907468, 1.3522346915907468, 1.3322902271130073, 1.3129255435793878, 1.3129255435793878, 1.3129255435793878, 1.2941157220381359, 1.2941157220381359, 1.2941157220381359, 1.2941157220381359, 1.2941157220381359, 1.2941157220381359, 1.27583725138788, 1.27583725138788, 1.27583725138788, 1.27583725138788, 1.2580679303379092, 1.2580679303379092, 1.2580679303379092, 1.2580679303379092, 1.2580679303379092, 1.2407867774486523, 1.2407867774486523, 1.2407867774486523, 1.2239739484859335, 1.2239739484859335, 1.2239739484859335, 1.2239739484859335, 1.2239739484859335, 1.2239739484859335, 1.2239739484859335, 1.2239739484859335, 1.2239739484859335, 1.2239739484859335, 1.2076106604045709, 1.2076106604045709, 1.2076106604045709, 1.1916791213491014, 1.1916791213491014, 1.1916791213491014, 1.1916791213491014, 1.1761624661232017, 1.1761624661232017, 1.1761624661232017, 1.1761624661232017, 1.1761624661232017, 1.1610446966357568, 1.1610446966357568, 1.1610446966357568, 1.1610446966357568, 1.1610446966357568, 1.146310626881496, 1.146310626881496, 1.146310626881496, 1.146310626881496, 1.146310626881496, 1.146310626881496, 1.146310626881496, 1.1319458320584195, 1.1319458320584195, 1.1319458320584195, 1.1179366014636374, 1.1179366014636374, 1.1179366014636374, 1.1179366014636374, 1.1179366014636374, 1.1179366014636374, 1.1042698948442773, 1.0909333019113754, 1.0909333019113754, 1.0909333019113754, 1.0779150047525283, 1.0779150047525283, 1.0779150047525283, 1.0779150047525283, 1.0652037429040317, 1.0652037429040317, 1.0652037429040317, 1.0652037429040317, 1.0527887808655232, 1.0527887808655232, 1.0527887808655232, 1.0527887808655232, 1.0527887808655232, 1.04065987786016, 1.0288072596612972, 1.0288072596612972, 1.0288072596612972, 1.017221592322769, 1.0058939576643864], \"chart_index\": [null, null, null, null, null, null, null, null, null, null, null, null, null, null, null, null, null, null, null, null, null, null, null, null, null, null, null, null, null, null, null, null, null, null, null, null, null, null, null, null, null, null, null, null, null, null, null, null, null, null, null, null, null, null, null, null, null, null, null, null, null, null, null, null, null, null, null, null, null, null, null, null, null, null, null, null, null, null, null, null, null, null, null, null, null, null, null, null, null, null, null, null, null, null, null, null, null, null, null, null, null, null, null, null, null, null, null, null, null, null, null, null, null, null, null, null, null, null, null, null, null, null, null, null, null, null, null, null, null, null, null, null, null, null, null, null, null, null, null, null, null, null, null, null, null, null], \"y_values\": [28, 5, 7, 26, 18, 8, 20, 10, 11, 12, 24, 29, 19, 28, 5, 6, 16, 27, 28, 20, 26, 28, 11, 12, 12, 14, 14, 16, 16, 17, 18, 18, 18, 18, 19, 19, 21, 22, 22, 23, 23, 23, 24, 24, 26, 27, 27, 27, 29, 3, 5, 5, 6, 6, 7, 7, 7, 7, 8, 9, 9, 9, 10, 10, 10, 10, 10, 10, 11, 11, 11, 11, 12, 12, 12, 12, 12, 13, 13, 13, 14, 14, 14, 14, 14, 14, 14, 14, 14, 14, 15, 15, 15, 16, 16, 16, 16, 17, 17, 17, 17, 17, 18, 18, 18, 18, 18, 19, 19, 19, 19, 19, 19, 19, 20, 20, 20, 21, 21, 21, 21, 21, 21, 22, 23, 23, 23, 24, 24, 24, 24, 25, 25, 25, 25, 26, 26, 26, 26, 26, 27, 28, 28, 28, 29, 30]}}, \"type\": \"ColumnDataSource\", \"id\": \"298a1597-f143-4070-aa0a-3aa5a3aa2b96\"}, {\"attributes\": {}, \"type\": \"BasicTicker\", \"id\": \"e609c262-6b90-44e6-b173-5f0f9fea11d8\"}, {\"attributes\": {\"plot\": {\"subtype\": \"Chart\", \"type\": \"Plot\", \"id\": \"f87e5882-9ded-41c0-accc-cc72a118f3df\"}, \"axis_label\": \"length\", \"formatter\": {\"type\": \"BasicTickFormatter\", \"id\": \"c3cdd780-976b-40c3-ba39-d5e4dfc6d9f1\"}, \"ticker\": {\"type\": \"BasicTicker\", \"id\": \"d00f781a-3e49-4154-ad92-e849e5db2479\"}}, \"type\": \"LinearAxis\", \"id\": \"27feaca7-663f-4cd6-a7c1-a79805d6d517\"}, {\"attributes\": {\"x_range\": {\"type\": \"Range1d\", \"id\": \"77563d68-12cf-4d35-8880-934931bf9dab\"}, \"y_mapper_type\": \"auto\", \"title_text_font_size\": {\"value\": \"14pt\"}, \"yscale\": \"auto\", \"y_range\": {\"type\": \"Range1d\", \"id\": \"0b79082c-4e67-4ff5-b483-1b5628a41c16\"}, \"x_mapper_type\": \"auto\", \"renderers\": [{\"type\": \"BoxAnnotation\", \"id\": \"18da2f61-5a8e-4f7f-b9c4-916d51b25c36\"}, {\"type\": \"GlyphRenderer\", \"id\": \"115eed66-fa45-45e8-96fa-ae37eeb0024e\"}, {\"type\": \"LinearAxis\", \"id\": \"50a073c1-2806-460d-b1f1-3680546b0f0d\"}, {\"type\": \"LinearAxis\", \"id\": \"3e04a64f-d26e-46e1-b0a9-c37e4cc06a12\"}, {\"type\": \"Grid\", \"id\": \"bcd96269-f871-4d41-80b0-5057cd9e1c0f\"}, {\"type\": \"Grid\", \"id\": \"4ed92198-9f02-4131-b1a7-64391d1e7b62\"}], \"below\": [{\"type\": \"LinearAxis\", \"id\": \"50a073c1-2806-460d-b1f1-3680546b0f0d\"}], \"tool_events\": {\"type\": \"ToolEvents\", \"id\": \"85e8298e-ef5e-47f4-8fb1-69f65f9903ca\"}, \"xscale\": \"auto\", \"tools\": [{\"type\": \"PanTool\", \"id\": \"3b07d816-c8a3-4894-abc0-4d88fff65ad0\"}, {\"type\": \"WheelZoomTool\", \"id\": \"d839791b-f739-4c38-93b9-9e9a1a7c955f\"}, {\"type\": \"BoxZoomTool\", \"id\": \"d1782baf-abd4-493a-bf83-4e739be8378b\"}, {\"type\": \"PreviewSaveTool\", \"id\": \"8a67ad82-6e19-4a98-a447-6a2be07fae8a\"}, {\"type\": \"ResizeTool\", \"id\": \"da35b0c8-936d-459f-b56e-c00693cb234e\"}, {\"type\": \"ResetTool\", \"id\": \"01ad4bcc-0890-4632-b2e9-41a74612af44\"}, {\"type\": \"HelpTool\", \"id\": \"598bdf3e-87ae-499a-881a-707d92a3f45e\"}], \"legend\": null, \"left\": [{\"type\": \"LinearAxis\", \"id\": \"3e04a64f-d26e-46e1-b0a9-c37e4cc06a12\"}]}, \"type\": \"Plot\", \"id\": \"b016618a-1516-4107-bbeb-65ee13d63d82\", \"subtype\": \"Chart\"}, {\"attributes\": {\"callback\": null, \"column_names\": [\"x_values\", \"y_values\"], \"data\": {\"x_values\": [10.046430142426164, 5.689003076075915, 5.250341084048614, 5.250341084048614, 5.250341084048614, 5.250341084048614, 4.56101509657714, 4.56101509657714, 4.56101509657714, 4.56101509657714, 4.56101509657714, 4.56101509657714, 4.56101509657714, 4.56101509657714, 3.3202283191284883, 3.3202283191284883, 3.3202283191284883, 2.895169147380189, 2.6724638283509434, 2.368774756947427, 2.368774756947427, 2.368774756947427, 1.9301127649201257, 1.9301127649201257, 1.9301127649201257, 1.9301127649201257, 1.9301127649201257, 1.9301127649201257, 1.9301127649201257, 1.9301127649201257, 1.9301127649201257, 1.9301127649201257, 1.9301127649201257, 1.9301127649201257, 1.9301127649201257, 1.9301127649201257, 1.9301127649201257, 1.9301127649201257, 1.9301127649201257, 1.9301127649201257, 1.9301127649201257, 1.9301127649201257, 1.9301127649201257, 1.9301127649201257, 1.9301127649201257, 1.9301127649201257, 1.9301127649201257, 1.9301127649201257, 1.9301127649201257, 1.2407867774486523, 1.2407867774486523, 1.2407867774486523, 1.2407867774486523, 1.2407867774486523, 1.2407867774486523, 1.2407867774486523, 1.2407867774486523, 1.2407867774486523, 1.2407867774486523, 1.2407867774486523, 1.2407867774486523, 1.2407867774486523, 1.2407867774486523, 1.2407867774486523, 1.2407867774486523, 1.2407867774486523, 1.2407867774486523, 1.2407867774486523, 1.2407867774486523, 1.2407867774486523, 1.2407867774486523, 1.2407867774486523, 1.2407867774486523, 1.2407867774486523, 1.2407867774486523, 1.2407867774486523, 1.2407867774486523, 1.2407867774486523, 1.2407867774486523, 1.2407867774486523, 1.2407867774486523, 1.2407867774486523, 1.2407867774486523, 1.2407867774486523, 1.2407867774486523, 1.2407867774486523, 1.2407867774486523, 1.2407867774486523, 1.2407867774486523, 1.2407867774486523, 1.2407867774486523, 1.2407867774486523, 1.2407867774486523, 1.2407867774486523, 1.2407867774486523, 1.2407867774486523, 1.2407867774486523, 1.2407867774486523, 1.2407867774486523, 1.2407867774486523, 1.2407867774486523, 1.2407867774486523, 1.2407867774486523, 1.2407867774486523, 1.2407867774486523, 1.2407867774486523, 1.2407867774486523, 1.2407867774486523, 1.2407867774486523, 1.2407867774486523, 1.2407867774486523, 1.2407867774486523, 1.2407867774486523, 1.2407867774486523, 1.2407867774486523, 1.2407867774486523, 1.2407867774486523, 1.2407867774486523, 1.2407867774486523, 1.2407867774486523, 1.2407867774486523, 1.2407867774486523, 1.2407867774486523, 1.2407867774486523, 1.2407867774486523, 1.2407867774486523, 1.2407867774486523, 1.2407867774486523, 1.2407867774486523, 1.2407867774486523, 1.2407867774486523, 1.2407867774486523, 1.2407867774486523, 1.2407867774486523, 1.2407867774486523, 1.2407867774486523, 1.2407867774486523, 1.2407867774486523, 1.2407867774486523, 1.2407867774486523, 1.2407867774486523, 1.2407867774486523, 1.2407867774486523, 1.2407867774486523, 1.2407867774486523, 1.2407867774486523], \"chart_index\": [null, null, null, null, null, null, null, null, null, null, null, null, null, null, null, null, null, null, null, null, null, null, null, null, null, null, null, null, null, null, null, null, null, null, null, null, null, null, null, null, null, null, null, null, null, null, null, null, null, null, null, null, null, null, null, null, null, null, null, null, null, null, null, null, null, null, null, null, null, null, null, null, null, null, null, null, null, null, null, null, null, null, null, null, null, null, null, null, null, null, null, null, null, null, null, null, null, null, null, null, null, null, null, null, null, null, null, null, null, null, null, null, null, null, null, null, null, null, null, null, null, null, null, null, null, null, null, null, null, null, null, null, null, null, null, null, null, null, null, null, null, null, null, null, null, null], \"y_values\": [28, 26, 20, 29, 24, 18, 12, 10, 11, 19, 28, 5, 7, 8, 5, 6, 16, 27, 28, 26, 20, 28, 14, 29, 23, 12, 27, 22, 19, 14, 27, 24, 19, 11, 18, 17, 18, 21, 27, 16, 24, 18, 16, 26, 23, 18, 22, 12, 23, 19, 28, 13, 26, 23, 30, 3, 15, 19, 25, 23, 21, 23, 5, 11, 14, 16, 16, 7, 14, 12, 27, 16, 14, 12, 5, 10, 15, 9, 25, 6, 21, 20, 21, 25, 14, 28, 24, 10, 7, 17, 18, 14, 14, 19, 26, 10, 10, 7, 12, 26, 14, 17, 6, 11, 10, 20, 21, 18, 15, 14, 17, 7, 14, 11, 12, 8, 18, 14, 9, 19, 18, 16, 10, 24, 22, 13, 17, 20, 17, 19, 19, 28, 18, 25, 9, 21, 21, 26, 19, 13, 29, 24, 26, 24, 11, 12]}}, \"type\": \"ColumnDataSource\", \"id\": \"dd764596-870a-436e-a623-f66923433bf0\"}, {\"attributes\": {}, \"type\": \"BasicTickFormatter\", \"id\": \"b629df8c-0c3f-493d-af19-746f6871c6a7\"}, {\"attributes\": {\"plot\": {\"subtype\": \"Chart\", \"type\": \"Plot\", \"id\": \"2df31d7d-bbda-4ecb-aec7-3b50a32e2275\"}, \"axis_label\": \"score\", \"formatter\": {\"type\": \"BasicTickFormatter\", \"id\": \"b629df8c-0c3f-493d-af19-746f6871c6a7\"}, \"ticker\": {\"type\": \"BasicTicker\", \"id\": \"b1cf4134-f7ef-43b3-bc12-cd83e3c0f323\"}}, \"type\": \"LinearAxis\", \"id\": \"a018da39-3d48-4ece-a2d0-3d4e80af9f7e\"}, {\"attributes\": {}, \"type\": \"BasicTicker\", \"id\": \"d00f781a-3e49-4154-ad92-e849e5db2479\"}, {\"attributes\": {\"line_color\": {\"value\": \"black\"}, \"line_alpha\": {\"value\": 1.0}, \"render_mode\": \"css\", \"bottom_units\": \"screen\", \"level\": \"overlay\", \"top_units\": \"screen\", \"fill_alpha\": {\"value\": 0.5}, \"plot\": null, \"left_units\": \"screen\", \"line_dash\": [4, 4], \"line_width\": {\"value\": 2}, \"right_units\": \"screen\", \"fill_color\": {\"value\": \"lightgrey\"}}, \"type\": \"BoxAnnotation\", \"id\": \"2c69c428-e6ad-4767-8349-e86dc02ec6d8\"}, {\"attributes\": {}, \"type\": \"ToolEvents\", \"id\": \"6e1ea01d-de6b-4cd5-b68c-f5df4439e382\"}, {\"attributes\": {\"plot\": {\"subtype\": \"Chart\", \"type\": \"Plot\", \"id\": \"2df31d7d-bbda-4ecb-aec7-3b50a32e2275\"}, \"overlay\": {\"type\": \"BoxAnnotation\", \"id\": \"53e3c4ba-a05b-4c03-beda-1bf32531a3b1\"}}, \"type\": \"BoxZoomTool\", \"id\": \"90a8e293-3426-414e-8f02-e3850cd2edeb\"}, {\"attributes\": {\"plot\": {\"subtype\": \"Chart\", \"type\": \"Plot\", \"id\": \"b016618a-1516-4107-bbeb-65ee13d63d82\"}, \"axis_label\": \"length\", \"formatter\": {\"type\": \"BasicTickFormatter\", \"id\": \"0c72c1a2-94cb-4b30-8568-35594ba03f6c\"}, \"ticker\": {\"type\": \"BasicTicker\", \"id\": \"c0899e25-21d5-4b4a-a929-86670bd1522c\"}}, \"type\": \"LinearAxis\", \"id\": \"3e04a64f-d26e-46e1-b0a9-c37e4cc06a12\"}]}, \"title\": \"Bokeh Application\"}};\n",
       "            var render_items = [{\"notebook_comms_target\": \"4fd2b9b2-9498-4901-9c33-4558b372edaf\", \"docid\": \"f2de17b1-741e-4c98-9441-726a919fb973\", \"elementid\": \"22c80f7d-e9b2-46c9-8793-c6211d8ed576\", \"modelid\": \"2df31d7d-bbda-4ecb-aec7-3b50a32e2275\"}];\n",
       "            \n",
       "            Bokeh.embed.embed_items(docs_json, render_items);\n",
       "        });\n",
       "      },\n",
       "      function(Bokeh) {\n",
       "      }\n",
       "    ];\n",
       "  \n",
       "    function run_inline_js() {\n",
       "      for (var i = 0; i < inline_js.length; i++) {\n",
       "        inline_js[i](window.Bokeh);\n",
       "      }\n",
       "    }\n",
       "  \n",
       "    if (window._bokeh_is_loading === 0) {\n",
       "      console.log(\"Bokeh: BokehJS loaded, going straight to plotting\");\n",
       "      run_inline_js();\n",
       "    } else {\n",
       "      load_libs(js_urls, function() {\n",
       "        console.log(\"Bokeh: BokehJS plotting callback run at\", now());\n",
       "        run_inline_js();\n",
       "      });\n",
       "    }\n",
       "  }(this));\n",
       "</script>"
      ]
     },
     "metadata": {},
     "output_type": "display_data"
    },
    {
     "data": {
      "text/plain": [
       "<bokeh.io._CommsHandle at 0x7f7fa8ba0790>"
      ]
     },
     "execution_count": 22,
     "metadata": {},
     "output_type": "execute_result"
    }
   ],
   "source": [
    "results = get_results_bm25('i hate tomatos', tweet_text, k1=2.5, b=0.75)\n",
    "\n",
    "# Plot score vs item length\n",
    "df = pd.DataFrame({'score':[float(x[0]) for x in results],\n",
    "                   'length':[len(tweet_text[x[1]].split()) for x in results]})\n",
    "output_notebook()\n",
    "p = Scatter(df, x='score', y='length')\n",
    "show(p)"
   ]
  },
  {
   "cell_type": "markdown",
   "metadata": {
    "collapsed": true
   },
   "source": [
    "# Get content based on username\n",
    "This function will retrieve tweets in the corpus that belong to the specified user. These tweets will be ordered by date. "
   ]
  },
  {
   "cell_type": "code",
   "execution_count": 16,
   "metadata": {
    "collapsed": false
   },
   "outputs": [
    {
     "name": "stdout",
     "output_type": "stream",
     "text": [
      "Tue Jun 02 04:29:16 UTC 2009 SimpleManJess ncaa baseball super regional rams club\n",
      "Tue Jun 02 04:29:17 UTC 2009 SimpleManJess baseballamerica com blog baseball america prospects blog blog\n"
     ]
    }
   ],
   "source": [
    "def print_results_username(username_index, user_name):\n",
    "    if(user_name in username_index):\n",
    "        # All of the documents that correspond to the username \n",
    "        docs = username_index[user_name]\n",
    "        # For every doc, print date, username, and tweet \n",
    "        for doc in docs:\n",
    "            print tweet_date[doc] + \" \" + tweet_user[doc] + \" \" + tweet_text[doc]\n",
    "    else:\n",
    "        print \"Username does not exist\"\n",
    "    \n",
    "results = create_user_index(tweet_user)\n",
    "print_results_username(results, 'SimpleManJess')"
   ]
  },
  {
   "cell_type": "markdown",
   "metadata": {},
   "source": [
    "# Determine User Query\n",
    "This will take in the user query and determine whether or not the user is wishin to search all tweet content or a specific user's content."
   ]
  },
  {
   "cell_type": "code",
   "execution_count": 17,
   "metadata": {
    "collapsed": false
   },
   "outputs": [],
   "source": [
    "def determine_query(query):\n",
    "    if(query[0] == '@' and len(query.split()) == 1):\n",
    "        user_choice = raw_input((\"Select your query preference\",\n",
    "                                \"\\n1. All content\",\n",
    "                                \"\\n2. User content\"))\n",
    "        return user_choice\n",
    "    return '1'\n",
    "    "
   ]
  },
  {
   "cell_type": "code",
   "execution_count": 18,
   "metadata": {
    "collapsed": false
   },
   "outputs": [],
   "source": [
    "def u_search(user_choice, query):\n",
    "    if(user_choice == '1'):\n",
    "        results = get_results_bm25(query, tweet_text)\n",
    "        print_results(results,25)\n",
    "    if(user_choice == '2'):\n",
    "        results = create_user_index(tweet_user)\n",
    "        print_results_username(results, query)\n",
    "    "
   ]
  },
  {
   "cell_type": "code",
   "execution_count": 19,
   "metadata": {
    "collapsed": false,
    "scrolled": true
   },
   "outputs": [
    {
     "name": "stdout",
     "output_type": "stream",
     "text": [
      "\n",
      "Top 25 from recall set of 3 items:\n"
     ]
    },
    {
     "ename": "TypeError",
     "evalue": "not all arguments converted during string formatting",
     "output_type": "error",
     "traceback": [
      "\u001b[1;31m---------------------------------------------------------------------------\u001b[0m",
      "\u001b[1;31mTypeError\u001b[0m                                 Traceback (most recent call last)",
      "\u001b[1;32m<ipython-input-19-59365c8b89b4>\u001b[0m in \u001b[0;36m<module>\u001b[1;34m()\u001b[0m\n\u001b[0;32m      1\u001b[0m \u001b[0mquery\u001b[0m \u001b[1;33m=\u001b[0m \u001b[0mnormalize\u001b[0m\u001b[1;33m(\u001b[0m\u001b[1;34m\"@kirstiealley\"\u001b[0m\u001b[1;33m)\u001b[0m\u001b[1;33m\u001b[0m\u001b[0m\n\u001b[0;32m      2\u001b[0m \u001b[1;31m#choice = determine_query(query)\u001b[0m\u001b[1;33m\u001b[0m\u001b[1;33m\u001b[0m\u001b[0m\n\u001b[1;32m----> 3\u001b[1;33m \u001b[0mu_search\u001b[0m\u001b[1;33m(\u001b[0m\u001b[1;34m'1'\u001b[0m\u001b[1;33m,\u001b[0m\u001b[0mquery\u001b[0m\u001b[1;33m)\u001b[0m\u001b[1;33m\u001b[0m\u001b[0m\n\u001b[0m",
      "\u001b[1;32m<ipython-input-18-49cf1045ab42>\u001b[0m in \u001b[0;36mu_search\u001b[1;34m(user_choice, query)\u001b[0m\n\u001b[0;32m      2\u001b[0m     \u001b[1;32mif\u001b[0m\u001b[1;33m(\u001b[0m\u001b[0muser_choice\u001b[0m \u001b[1;33m==\u001b[0m \u001b[1;34m'1'\u001b[0m\u001b[1;33m)\u001b[0m\u001b[1;33m:\u001b[0m\u001b[1;33m\u001b[0m\u001b[0m\n\u001b[0;32m      3\u001b[0m         \u001b[0mresults\u001b[0m \u001b[1;33m=\u001b[0m \u001b[0mget_results_bm25\u001b[0m\u001b[1;33m(\u001b[0m\u001b[0mquery\u001b[0m\u001b[1;33m,\u001b[0m \u001b[0mtweet_text\u001b[0m\u001b[1;33m)\u001b[0m\u001b[1;33m\u001b[0m\u001b[0m\n\u001b[1;32m----> 4\u001b[1;33m         \u001b[0mprint_results\u001b[0m\u001b[1;33m(\u001b[0m\u001b[0mresults\u001b[0m\u001b[1;33m,\u001b[0m\u001b[1;36m25\u001b[0m\u001b[1;33m)\u001b[0m\u001b[1;33m\u001b[0m\u001b[0m\n\u001b[0m\u001b[0;32m      5\u001b[0m     \u001b[1;32mif\u001b[0m\u001b[1;33m(\u001b[0m\u001b[0muser_choice\u001b[0m \u001b[1;33m==\u001b[0m \u001b[1;34m'2'\u001b[0m\u001b[1;33m)\u001b[0m\u001b[1;33m:\u001b[0m\u001b[1;33m\u001b[0m\u001b[0m\n\u001b[0;32m      6\u001b[0m         \u001b[0mresults\u001b[0m \u001b[1;33m=\u001b[0m \u001b[0mcreate_user_index\u001b[0m\u001b[1;33m(\u001b[0m\u001b[0mtweet_user\u001b[0m\u001b[1;33m)\u001b[0m\u001b[1;33m\u001b[0m\u001b[0m\n",
      "\u001b[1;32m<ipython-input-10-867abeaad207>\u001b[0m in \u001b[0;36mprint_results\u001b[1;34m(results, n, head)\u001b[0m\n\u001b[0;32m      5\u001b[0m         \u001b[1;32mprint\u001b[0m\u001b[1;33m(\u001b[0m\u001b[1;34m'\\nTop %d from recall set of %d items:'\u001b[0m \u001b[1;33m%\u001b[0m \u001b[1;33m(\u001b[0m\u001b[0mn\u001b[0m\u001b[1;33m,\u001b[0m \u001b[0mlen\u001b[0m\u001b[1;33m(\u001b[0m\u001b[0mresults\u001b[0m\u001b[1;33m)\u001b[0m \u001b[1;33m)\u001b[0m \u001b[1;33m)\u001b[0m\u001b[1;33m\u001b[0m\u001b[0m\n\u001b[0;32m      6\u001b[0m         \u001b[1;32mfor\u001b[0m \u001b[0mr\u001b[0m \u001b[1;32min\u001b[0m \u001b[0mresults\u001b[0m\u001b[1;33m[\u001b[0m\u001b[1;33m:\u001b[0m\u001b[0mn\u001b[0m\u001b[1;33m]\u001b[0m\u001b[1;33m:\u001b[0m\u001b[1;33m\u001b[0m\u001b[0m\n\u001b[1;32m----> 7\u001b[1;33m             \u001b[1;32mprint\u001b[0m\u001b[1;33m(\u001b[0m\u001b[1;34m'\\t%0.2f - %s'\u001b[0m \u001b[1;33m%\u001b[0m \u001b[1;33m(\u001b[0m\u001b[0mr\u001b[0m\u001b[1;33m[\u001b[0m\u001b[1;36m0\u001b[0m\u001b[1;33m]\u001b[0m\u001b[1;33m,\u001b[0m \u001b[0mr\u001b[0m\u001b[1;33m[\u001b[0m\u001b[1;36m2\u001b[0m\u001b[1;33m]\u001b[0m\u001b[1;33m,\u001b[0m\u001b[0mtweet_text\u001b[0m\u001b[1;33m[\u001b[0m\u001b[0mr\u001b[0m\u001b[1;33m[\u001b[0m\u001b[1;36m1\u001b[0m\u001b[1;33m]\u001b[0m\u001b[1;33m]\u001b[0m\u001b[1;33m)\u001b[0m\u001b[1;33m)\u001b[0m\u001b[1;33m\u001b[0m\u001b[0m\n\u001b[0m\u001b[0;32m      8\u001b[0m     \u001b[1;32melse\u001b[0m\u001b[1;33m:\u001b[0m\u001b[1;33m\u001b[0m\u001b[0m\n\u001b[0;32m      9\u001b[0m         \u001b[1;32mprint\u001b[0m\u001b[1;33m(\u001b[0m\u001b[1;34m'\\nTop %d from recall set of %d items:'\u001b[0m \u001b[1;33m%\u001b[0m \u001b[1;33m(\u001b[0m\u001b[0mn\u001b[0m\u001b[1;33m,\u001b[0m \u001b[0mlen\u001b[0m\u001b[1;33m(\u001b[0m\u001b[0mresults\u001b[0m\u001b[1;33m)\u001b[0m \u001b[1;33m)\u001b[0m \u001b[1;33m)\u001b[0m\u001b[1;33m\u001b[0m\u001b[0m\n",
      "\u001b[1;31mTypeError\u001b[0m: not all arguments converted during string formatting"
     ]
    }
   ],
   "source": [
    "query = normalize(\"@kirstiealley\")\n",
    "#choice = determine_query(query)\n",
    "u_search('1',query)"
   ]
  },
  {
   "cell_type": "raw",
   "metadata": {
    "collapsed": false
   },
   "source": [
    "input = raw_input(\"Enter \")"
   ]
  },
  {
   "cell_type": "code",
   "execution_count": null,
   "metadata": {
    "collapsed": true
   },
   "outputs": [],
   "source": []
  }
 ],
 "metadata": {
  "kernelspec": {
   "display_name": "Python 2",
   "language": "python",
   "name": "python2"
  },
  "language_info": {
   "codemirror_mode": {
    "name": "ipython",
    "version": 2
   },
   "file_extension": ".py",
   "mimetype": "text/x-python",
   "name": "python",
   "nbconvert_exporter": "python",
   "pygments_lexer": "ipython2",
   "version": "2.7.11"
  }
 },
 "nbformat": 4,
 "nbformat_minor": 0
}
