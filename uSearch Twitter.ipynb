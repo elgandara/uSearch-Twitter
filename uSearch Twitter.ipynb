{
 "cells": [
  {
   "cell_type": "markdown",
   "metadata": {},
   "source": [
    "# uSearch \n",
    "This search engine will allow users to find Twitter users that they can follow based on the content of the Tweets. Users will be able to enter a query that will be matched against our Twitter corpus and output ranked results that best fit the user's query. uSearch also features a query option of allowing the user to search for tweets from a specified user by starting their query with an '@' symbol.  \n",
    "\n",
    "# Approach \n",
    "Our approach was to read in Tweets from a pre-defined Data Set, normalize the data, create an inverted index, apply a ranking algorithm, and output results. The user will be asked whether they are searching for a \n",
    "\n",
    "# Key Insights "
   ]
  },
  {
   "cell_type": "markdown",
   "metadata": {},
   "source": [
    "# Imports\n",
    "All needed libraries for this search engine to be functional."
   ]
  },
  {
   "cell_type": "code",
   "execution_count": 3,
   "metadata": {
    "collapsed": true
   },
   "outputs": [],
   "source": [
    "import re\n",
    "import csv\n",
    "import math\n",
    "import collections\n",
    "import pandas as pd\n",
    "import bokeh\n",
    "from nltk import PorterStemmer"
   ]
  },
  {
   "cell_type": "markdown",
   "metadata": {},
   "source": [
    "# Get Twitter Docs\n",
    "Returns all corpus documents from a given filename "
   ]
  },
  {
   "cell_type": "code",
   "execution_count": 31,
   "metadata": {
    "collapsed": true
   },
   "outputs": [],
   "source": [
    "def getTwitterDocs(filename):\n",
    "\twith open(filename, 'rb') as csvfile:\n",
    "\t\tr = csv.reader(csvfile, delimiter=',', quotechar='\"')\n",
    "\t\tdocs = [ (x[2], x[4], x[5])  for x in r]\n",
    "\n",
    "\treturn docs"
   ]
  },
  {
   "cell_type": "markdown",
   "metadata": {},
   "source": [
    "# Stemming "
   ]
  },
  {
   "cell_type": "code",
   "execution_count": 32,
   "metadata": {
    "collapsed": false
   },
   "outputs": [],
   "source": [
    "def stem_tweet(tweet):\n",
    "    stemmed_tweet = \"\"\n",
    "    split_tweet = tweet.split(' ')\n",
    "    for word in split_tweet:\n",
    "        stemmed_tweet += PorterStemmer().stem_word(word) + \" \"\n",
    "    stemmed_tweet = stemmed_tweet.strip(' ')\n",
    "    return stemmed_tweet\n",
    "#print stem_tweet(\"happiness indentifiable\")\n",
    "#print stem_tweet(\"happy indentity\")\n",
    "        "
   ]
  },
  {
   "cell_type": "markdown",
   "metadata": {},
   "source": [
    "# Erase Link\n",
    "This function is part of the normalization effort. A full length tweet will be inserted, and a tweet without a link will be output. "
   ]
  },
  {
   "cell_type": "code",
   "execution_count": 33,
   "metadata": {
    "collapsed": true
   },
   "outputs": [],
   "source": [
    "def erase_link(tweet):\n",
    "    inx = tweet.find('http')\n",
    "    #Check to see if tweet contains a link\n",
    "    if inx != -1:\n",
    "        #Find white space\n",
    "        sp_inx = tweet.find(\" \", inx)\n",
    "        #Check if there is a white space after the link\n",
    "        if sp_inx != -1:\n",
    "            new_tweet = tweet[0:inx] + tweet[sp_inx + 1:]\n",
    "        else:\n",
    "            new_tweet = tweet[0:inx]\n",
    "        return new_tweet\n",
    "    return tweet"
   ]
  },
  {
   "cell_type": "markdown",
   "metadata": {},
   "source": [
    "# Normalize\n",
    "This function will normalize a tweet passed in. The output will be the tweet without any special characters, except a '@,' in all lowercase."
   ]
  },
  {
   "cell_type": "code",
   "execution_count": 34,
   "metadata": {
    "collapsed": false
   },
   "outputs": [],
   "source": [
    "def normalize(tweet):\n",
    "    #erase link\n",
    "    normalizedTweet = erase_link(tweet)\n",
    "    #print normalizedTweet\n",
    "    normalizedTweet = re.compile('[^a-zA-Z@]').sub(' ', normalizedTweet)\n",
    "    normalizedTweet = normalizedTweet.lower()\n",
    "    normalizedTweet = \" \".join(normalizedTweet.split())\n",
    "    return normalizedTweet\n"
   ]
  },
  {
   "cell_type": "markdown",
   "metadata": {},
   "source": [
    "This portion of the program will open a csv file containing all tweets that will comprise our corpus. Three lists will be created: one for the dates, one for the usernames, and one for the tweets. These three lists are parallel to each other."
   ]
  },
  {
   "cell_type": "code",
   "execution_count": 35,
   "metadata": {
    "collapsed": false
   },
   "outputs": [],
   "source": [
    "with open(\"twitter-data/smallData.csv\", 'rb') as csvfile:\n",
    "    r = csv.reader(csvfile, delimiter=',', quotechar='\"')\n",
    "    docs = [ (x[2], x[4], x[5])  for x in r]\n",
    "    \n",
    "tweet_date = [ d[0] for d in docs ] #Tweet dates\n",
    "tweet_user = [ d[1] for d in docs ] #Tweet users\n",
    "tweet_text = [ d[2] for d in docs ] #Tweet text\n",
    "\n",
    "#Normalize each tweet \n",
    "tweet_text = map(normalize, tweet_text)\n"
   ]
  },
  {
   "cell_type": "markdown",
   "metadata": {},
   "source": [
    "# Create Corpus \n",
    "This function will generate a corpus as a dictionary. The key value is a the document id, while the value is the date, username, and text"
   ]
  },
  {
   "cell_type": "code",
   "execution_count": 36,
   "metadata": {
    "collapsed": false
   },
   "outputs": [],
   "source": [
    "def create_corpus():\n",
    "    corpus = {}\n",
    "    for x in range(0,len(tweet_text)):\n",
    "        corpus[x] = [tweet_date[x], tweet_user[x],tweet_text[x]]\n",
    "        #print corpus[x]\n",
    "\n"
   ]
  },
  {
   "cell_type": "markdown",
   "metadata": {
    "collapsed": true
   },
   "source": [
    "# Inverted Indexs\n",
    "\n",
    "For the twitter data, there will be two inverted indexes. The first inverted index will have the username as the key and the tweets that correspond to that username as the values. The second inverted index will be the word index for our tweets; the key will be a word and the values will be the id of the documents that contain that word."
   ]
  },
  {
   "cell_type": "markdown",
   "metadata": {},
   "source": [
    "# Word Dictionary Reversed Index\n",
    "\n",
    "The reversed index for the words in the corpus will be created by going through each word in each document. The reveresed index will allow for a faster retrieval of relevant documents. "
   ]
  },
  {
   "cell_type": "code",
   "execution_count": 74,
   "metadata": {
    "collapsed": false
   },
   "outputs": [],
   "source": [
    "def create_inverted_index(corpus):\n",
    "    idx = {}\n",
    "    \n",
    "    for i, doc in enumerate(corpus):\n",
    "        # Stem document (tweet)\n",
    "        stemmed_document = stem_tweet(doc)\n",
    "        # Iterate through each word in the document\n",
    "        for word in stemmed_document.split():\n",
    "        #for word in doc.split():\n",
    "            if word in idx:\n",
    "                # Update the document's term frequency\n",
    "                if i in idx[word]:\n",
    "                    idx[word][i] += 1\n",
    "                # Add the document to the word index\n",
    "                else:\n",
    "                    idx[word][i] = 1;\n",
    "            # Add the word to the reversed index\n",
    "            else:\n",
    "                idx[word] = {i:1}\n",
    "    \n",
    "    return idx\n"
   ]
  },
  {
   "cell_type": "code",
   "execution_count": 38,
   "metadata": {
    "collapsed": false
   },
   "outputs": [],
   "source": [
    "'''\n",
    "test_users = [\"vcu451\", \"chadfu\", \"SIX15\"]\n",
    "test_corpus = [\"reading my kindle2  love it lee childs is good read\", \n",
    "               \"ok, first assesment of the kindle2 ...it fucking rocks\", \n",
    "               \"fuck this economy I hate aig and their non loan given asses\"]\n",
    "'''\n",
    "\n",
    "idx = create_inverted_index(tweet_text)\n"
   ]
  },
  {
   "cell_type": "markdown",
   "metadata": {},
   "source": [
    "# User Tweet Index\n",
    "\n",
    "The user tweet index will allow for the all tweets(documents) that belong to a username to be retrieved quickly."
   ]
  },
  {
   "cell_type": "code",
   "execution_count": 39,
   "metadata": {
    "collapsed": true
   },
   "outputs": [],
   "source": [
    "def create_user_index(users):\n",
    "    \n",
    "    user_tweets = {}\n",
    "    \n",
    "    # Go through each of the tweets in the corpus\n",
    "    for i in range( len(users) ):\n",
    "        # When user already exists, add the document id to the existing user tweet list\n",
    "        if users[i] in user_tweets:\n",
    "            user_tweets[users[i] ].append(i)\n",
    "        # Otherwise, creat a new list with the document id\n",
    "        else:\n",
    "            user_tweets[users[i] ] = [i]\n",
    "            \n",
    "    return user_tweets"
   ]
  },
  {
   "cell_type": "code",
   "execution_count": 40,
   "metadata": {
    "collapsed": false
   },
   "outputs": [],
   "source": [
    "user_tweet_index = create_user_index(tweet_user)\n",
    "\n",
    "#user_tweet_index"
   ]
  },
  {
   "cell_type": "markdown",
   "metadata": {
    "collapsed": true
   },
   "source": [
    "# Document Ranking\n",
    "To rank the documents, we will be implementing two different ranking algorithms: TF-IDF and BM25. "
   ]
  },
  {
   "cell_type": "markdown",
   "metadata": {},
   "source": [
    "# TF-IDF\n",
    "The TF-IDF (term frequency–inverse document frequency) ranking algorithm ranks documents based on the term frequency of the words in the query in relation to the words in the documents."
   ]
  },
  {
   "cell_type": "code",
   "execution_count": 72,
   "metadata": {
    "collapsed": false
   },
   "outputs": [],
   "source": [
    "def print_results(results, n, head=True):\n",
    "    ''' Helper function to print results\n",
    "    '''\n",
    "    if head:\n",
    "        print('\\nTop %d from recall set of %d items:' % (n, len(results) ) )\n",
    "        for r in results[:n]:\n",
    "            print('\\t%0.2f - %s - %s' % (r[0], r[2],tweet_text[r[1]]))\n",
    "    else:\n",
    "        print('\\nTop %d from recall set of %d items:' % (n, len(results) ) )\n",
    "        for r in results[:n]:\n",
    "            print('\\t%0.2f - %s - %s' % (r[0],r[2], tweet_text[r[1]]))"
   ]
  },
  {
   "cell_type": "code",
   "execution_count": 44,
   "metadata": {
    "collapsed": false,
    "scrolled": true
   },
   "outputs": [],
   "source": [
    "def idf(term, idx, n):\n",
    "    # term - the term that is being scored\n",
    "    # idx - the reversed index on the terms in the corpus\n",
    "    # n - the number of docments the term appears in\n",
    "    return math.log(float(n) / (1 + len(idx[term])))\n",
    "    \n",
    "#print(idf('how', idx, len(tweet_user)))\n",
    "#print(idf('hate', idx, len(tweet_user)))\n",
    "#print(idf('sleep', idx, len(tweet_user)))\n",
    "#print(idf('whoopi', idx, len(tweet_user)))\n",
    "#print(idf('monkeys', idx, len(tweet_user)))"
   ]
  },
  {
   "cell_type": "code",
   "execution_count": 45,
   "metadata": {
    "collapsed": false
   },
   "outputs": [],
   "source": [
    "def get_results_tfidf(qry, idx, n):\n",
    "    score = collections.Counter()\n",
    "    for term in qry.split():\n",
    "        if term in idx:\n",
    "            i = idf(term, idx, n)\n",
    "            for doc in idx[term]:\n",
    "                score[doc] += idx[term][doc] * i\n",
    "    results=[]\n",
    "    for x in [[r[0],r[1]] for r in zip(score.keys(), score.values())]:\n",
    "        if x[1] > 0:\n",
    "            results.append([x[1],x[0]])\n",
    "    sorted_results= sorted(results, key=lambda t : t[0] * -1)\n",
    "    return sorted_results\n",
    "#results = get_results_tfidf('monkeys', idx, len(tweet_user))\n",
    "#results = get_results_tfidf('hate', idx, len(tweet_user))\n",
    "#results = get_results_tfidf('sleep', idx, len(tweet_user))\n",
    "results = get_results_tfidf('hate', idx, len(tweet_user))\n",
    "\n",
    "#print_results(results, 10)"
   ]
  },
  {
   "cell_type": "markdown",
   "metadata": {},
   "source": [
    "# BM25\n",
    "Implement the BM25 ranking algorithm to rank our results. This ranking algorithm is the one we will be using for the final version of our search engine."
   ]
  },
  {
   "cell_type": "code",
   "execution_count": 55,
   "metadata": {
    "collapsed": false
   },
   "outputs": [],
   "source": [
    "def get_results_bm25(idx, qry, k1=2.5, b=0.25):\n",
    "\n",
    "    score = collections.Counter()\n",
    "    for term in qry.split():\n",
    "        if term in idx:\n",
    "            i = idf(term, idx, n)\n",
    "            for doc in idx[term]:\n",
    "                # f - the number of times the term appears in the document\n",
    "                f = float(idx[term][doc])\n",
    "                # s - the BM25 score for this (term, docuemnt) pair\n",
    "                s = i * ( (f * (k1 + 1) ) / (f + k1 * (1 - b + (b * (float(d[doc] ) / d_avg) ) ) ) )\n",
    "                score[doc] += s\n",
    "                \n",
    "    results = []\n",
    "    for x in [ [r[0], r[1], tweet_user[r[0]] ] for r in zip(score.keys(), score.values() )]:\n",
    "        if x[1] > 0:\n",
    "            results.append([ x[1], x[0], x[2]])\n",
    "            \n",
    "    sorted_results  = sorted(results, key=lambda t: t[0] * -1)\n",
    "    return sorted_results"
   ]
  },
  {
   "cell_type": "markdown",
   "metadata": {},
   "source": [
    "# Visualize the Effectiveness of BM25"
   ]
  },
  {
   "cell_type": "code",
   "execution_count": 47,
   "metadata": {
    "collapsed": true
   },
   "outputs": [],
   "source": [
    "from bokeh.plotting import output_notebook, show\n",
    "from bokeh.charts import Scatter"
   ]
  },
  {
   "cell_type": "code",
   "execution_count": 48,
   "metadata": {
    "collapsed": false,
    "scrolled": true
   },
   "outputs": [
    {
     "data": {
      "text/html": [
       "\n",
       "\n",
       "    <script type=\"text/javascript\">\n",
       "      \n",
       "      (function(global) {\n",
       "        function now() {\n",
       "          return new Date();\n",
       "        }\n",
       "      \n",
       "        if (typeof (window._bokeh_onload_callbacks) === \"undefined\") {\n",
       "          window._bokeh_onload_callbacks = [];\n",
       "        }\n",
       "      \n",
       "        function run_callbacks() {\n",
       "          window._bokeh_onload_callbacks.forEach(function(callback) { callback() });\n",
       "          delete window._bokeh_onload_callbacks\n",
       "          console.info(\"Bokeh: all callbacks have finished\");\n",
       "        }\n",
       "      \n",
       "        function load_libs(js_urls, callback) {\n",
       "          window._bokeh_onload_callbacks.push(callback);\n",
       "          if (window._bokeh_is_loading > 0) {\n",
       "            console.log(\"Bokeh: BokehJS is being loaded, scheduling callback at\", now());\n",
       "            return null;\n",
       "          }\n",
       "          if (js_urls == null || js_urls.length === 0) {\n",
       "            run_callbacks();\n",
       "            return null;\n",
       "          }\n",
       "          console.log(\"Bokeh: BokehJS not loaded, scheduling load and callback at\", now());\n",
       "          window._bokeh_is_loading = js_urls.length;\n",
       "          for (var i = 0; i < js_urls.length; i++) {\n",
       "            var url = js_urls[i];\n",
       "            var s = document.createElement('script');\n",
       "            s.src = url;\n",
       "            s.async = false;\n",
       "            s.onreadystatechange = s.onload = function() {\n",
       "              window._bokeh_is_loading--;\n",
       "              if (window._bokeh_is_loading === 0) {\n",
       "                console.log(\"Bokeh: all BokehJS libraries loaded\");\n",
       "                run_callbacks()\n",
       "              }\n",
       "            };\n",
       "            s.onerror = function() {\n",
       "              console.warn(\"failed to load library \" + url);\n",
       "            };\n",
       "            console.log(\"Bokeh: injecting script tag for BokehJS library: \", url);\n",
       "            document.getElementsByTagName(\"head\")[0].appendChild(s);\n",
       "          }\n",
       "        };var js_urls = ['https://cdn.pydata.org/bokeh/release/bokeh-0.11.0.min.js', 'https://cdn.pydata.org/bokeh/release/bokeh-widgets-0.11.0.min.js', 'https://cdn.pydata.org/bokeh/release/bokeh-compiler-0.11.0.min.js'];\n",
       "      \n",
       "        var inline_js = [\n",
       "          function(Bokeh) {\n",
       "            Bokeh.set_log_level(\"info\");\n",
       "          },\n",
       "          function(Bokeh) {\n",
       "            console.log(\"Bokeh: injecting CSS: https://cdn.pydata.org/bokeh/release/bokeh-0.11.0.min.css\");\n",
       "            Bokeh.embed.inject_css(\"https://cdn.pydata.org/bokeh/release/bokeh-0.11.0.min.css\");\n",
       "            console.log(\"Bokeh: injecting CSS: https://cdn.pydata.org/bokeh/release/bokeh-widgets-0.11.0.min.css\");\n",
       "            Bokeh.embed.inject_css(\"https://cdn.pydata.org/bokeh/release/bokeh-widgets-0.11.0.min.css\");\n",
       "          }\n",
       "        ];\n",
       "      \n",
       "        function run_inline_js() {\n",
       "          for (var i = 0; i < inline_js.length; i++) {\n",
       "            inline_js[i](window.Bokeh);\n",
       "          }\n",
       "        }\n",
       "      \n",
       "        if (window._bokeh_is_loading === 0) {\n",
       "          console.log(\"Bokeh: BokehJS loaded, going straight to plotting\");\n",
       "          run_inline_js();\n",
       "        } else {\n",
       "          load_libs(js_urls, function() {\n",
       "            console.log(\"Bokeh: BokehJS plotting callback run at\", now());\n",
       "            run_inline_js();\n",
       "          });\n",
       "        }\n",
       "      }(this));\n",
       "    </script>\n",
       "    <div>\n",
       "        <a href=\"http://bokeh.pydata.org\" target=\"_blank\" class=\"bk-logo bk-logo-small bk-logo-notebook\"></a>\n",
       "        <span>BokehJS successfully loaded.</span>\n",
       "    </div>"
      ]
     },
     "metadata": {},
     "output_type": "display_data"
    },
    {
     "data": {
      "text/html": [
       "\n",
       "\n",
       "    <div class=\"plotdiv\" id=\"e86dde3a-028b-4382-918a-715e7f5e4522\"></div>\n",
       "<script type=\"text/javascript\">\n",
       "  \n",
       "  (function(global) {\n",
       "    function now() {\n",
       "      return new Date();\n",
       "    }\n",
       "  \n",
       "    if (typeof (window._bokeh_onload_callbacks) === \"undefined\") {\n",
       "      window._bokeh_onload_callbacks = [];\n",
       "    }\n",
       "  \n",
       "    function run_callbacks() {\n",
       "      window._bokeh_onload_callbacks.forEach(function(callback) { callback() });\n",
       "      delete window._bokeh_onload_callbacks\n",
       "      console.info(\"Bokeh: all callbacks have finished\");\n",
       "    }\n",
       "  \n",
       "    function load_libs(js_urls, callback) {\n",
       "      window._bokeh_onload_callbacks.push(callback);\n",
       "      if (window._bokeh_is_loading > 0) {\n",
       "        console.log(\"Bokeh: BokehJS is being loaded, scheduling callback at\", now());\n",
       "        return null;\n",
       "      }\n",
       "      if (js_urls == null || js_urls.length === 0) {\n",
       "        run_callbacks();\n",
       "        return null;\n",
       "      }\n",
       "      console.log(\"Bokeh: BokehJS not loaded, scheduling load and callback at\", now());\n",
       "      window._bokeh_is_loading = js_urls.length;\n",
       "      for (var i = 0; i < js_urls.length; i++) {\n",
       "        var url = js_urls[i];\n",
       "        var s = document.createElement('script');\n",
       "        s.src = url;\n",
       "        s.async = false;\n",
       "        s.onreadystatechange = s.onload = function() {\n",
       "          window._bokeh_is_loading--;\n",
       "          if (window._bokeh_is_loading === 0) {\n",
       "            console.log(\"Bokeh: all BokehJS libraries loaded\");\n",
       "            run_callbacks()\n",
       "          }\n",
       "        };\n",
       "        s.onerror = function() {\n",
       "          console.warn(\"failed to load library \" + url);\n",
       "        };\n",
       "        console.log(\"Bokeh: injecting script tag for BokehJS library: \", url);\n",
       "        document.getElementsByTagName(\"head\")[0].appendChild(s);\n",
       "      }\n",
       "    };var element = document.getElementById(\"e86dde3a-028b-4382-918a-715e7f5e4522\");\n",
       "    if (element == null) {\n",
       "      console.log(\"Bokeh: ERROR: autoload.js configured with elementid 'e86dde3a-028b-4382-918a-715e7f5e4522' but no matching script tag was found. \")\n",
       "      return false;\n",
       "    }var js_urls = [];\n",
       "  \n",
       "    var inline_js = [\n",
       "      function(Bokeh) {\n",
       "        Bokeh.$(function() {\n",
       "            var docs_json = {\"227bd9b5-793c-4b6d-a94c-931498bc5f3f\": {\"version\": \"0.11.0\", \"roots\": {\"root_ids\": [\"ce04c87f-4114-4934-9385-da7a5a86d22b\", \"728c9af2-89c8-4bb3-b093-c4bbdbe6609d\"], \"references\": [{\"attributes\": {\"callback\": null, \"end\": 32.7, \"start\": 0.2999999999999998}, \"type\": \"Range1d\", \"id\": \"41ba9b1d-1a92-4548-9d2d-0746d4cdfcd0\"}, {\"attributes\": {\"plot\": {\"subtype\": \"Chart\", \"type\": \"Plot\", \"id\": \"728c9af2-89c8-4bb3-b093-c4bbdbe6609d\"}}, \"type\": \"PreviewSaveTool\", \"id\": \"6ebd5e92-a31d-4aa7-9d66-adb5c8a2d795\"}, {\"attributes\": {\"x_range\": {\"type\": \"Range1d\", \"id\": \"bb5d84e5-21fa-4de7-9c45-e2e3d4c8baa3\"}, \"y_mapper_type\": \"auto\", \"title_text_font_size\": {\"value\": \"14pt\"}, \"yscale\": \"auto\", \"y_range\": {\"type\": \"Range1d\", \"id\": \"41ba9b1d-1a92-4548-9d2d-0746d4cdfcd0\"}, \"x_mapper_type\": \"auto\", \"renderers\": [{\"type\": \"BoxAnnotation\", \"id\": \"3aefe01c-f7f3-46d8-9c8b-7588fb5b45d7\"}, {\"type\": \"GlyphRenderer\", \"id\": \"e332201c-4be1-4b80-aca1-ec3c52cdb1a7\"}, {\"type\": \"LinearAxis\", \"id\": \"5d46caf7-ba9f-48fc-90d6-2d64bd52026c\"}, {\"type\": \"LinearAxis\", \"id\": \"74064b75-faab-4251-b8b9-1271c88c9621\"}, {\"type\": \"Grid\", \"id\": \"12659aa2-0129-485e-9815-c11c040cce22\"}, {\"type\": \"Grid\", \"id\": \"651a5f0e-9c03-4d55-b930-eb531e34a759\"}], \"below\": [{\"type\": \"LinearAxis\", \"id\": \"5d46caf7-ba9f-48fc-90d6-2d64bd52026c\"}], \"tool_events\": {\"type\": \"ToolEvents\", \"id\": \"9f48b935-fd6e-4171-8da7-df1fed831c60\"}, \"xscale\": \"auto\", \"tools\": [{\"type\": \"PanTool\", \"id\": \"3ab148c7-891a-4b00-9bec-e65f8cf30615\"}, {\"type\": \"WheelZoomTool\", \"id\": \"516489fd-5f74-45e6-84b5-68faaacb85bb\"}, {\"type\": \"BoxZoomTool\", \"id\": \"35bcff08-5666-475f-a78b-cf659ccc8de5\"}, {\"type\": \"PreviewSaveTool\", \"id\": \"6ebd5e92-a31d-4aa7-9d66-adb5c8a2d795\"}, {\"type\": \"ResizeTool\", \"id\": \"11d55687-b62d-4c74-8e8f-96c433f2fa2b\"}, {\"type\": \"ResetTool\", \"id\": \"4340b8ac-4311-4368-94f3-d28730505e3b\"}, {\"type\": \"HelpTool\", \"id\": \"3415b039-52aa-469a-a61a-c33aef0454f1\"}], \"legend\": null, \"left\": [{\"type\": \"LinearAxis\", \"id\": \"74064b75-faab-4251-b8b9-1271c88c9621\"}]}, \"type\": \"Plot\", \"id\": \"728c9af2-89c8-4bb3-b093-c4bbdbe6609d\", \"subtype\": \"Chart\"}, {\"attributes\": {\"plot\": {\"subtype\": \"Chart\", \"type\": \"Plot\", \"id\": \"728c9af2-89c8-4bb3-b093-c4bbdbe6609d\"}}, \"type\": \"ResizeTool\", \"id\": \"11d55687-b62d-4c74-8e8f-96c433f2fa2b\"}, {\"attributes\": {}, \"type\": \"BasicTickFormatter\", \"id\": \"f0d3384c-84a7-4b06-9cad-ac4e3462a0e4\"}, {\"attributes\": {\"plot\": {\"subtype\": \"Chart\", \"type\": \"Plot\", \"id\": \"ce04c87f-4114-4934-9385-da7a5a86d22b\"}}, \"type\": \"WheelZoomTool\", \"id\": \"9659a780-5858-44cc-a5f0-adf365fd17cf\"}, {\"attributes\": {\"plot\": {\"subtype\": \"Chart\", \"type\": \"Plot\", \"id\": \"ce04c87f-4114-4934-9385-da7a5a86d22b\"}, \"ticker\": {\"type\": \"BasicTicker\", \"id\": \"3b27726c-ab18-4aee-a6c0-a6d1e385c171\"}}, \"type\": \"Grid\", \"id\": \"30aa7fb5-f92b-4168-aa1d-624222da310c\"}, {\"attributes\": {\"plot\": {\"subtype\": \"Chart\", \"type\": \"Plot\", \"id\": \"ce04c87f-4114-4934-9385-da7a5a86d22b\"}}, \"type\": \"PreviewSaveTool\", \"id\": \"146c0d12-ac1b-4d9c-8174-2e412c0d117c\"}, {\"attributes\": {\"plot\": {\"subtype\": \"Chart\", \"type\": \"Plot\", \"id\": \"728c9af2-89c8-4bb3-b093-c4bbdbe6609d\"}, \"axis_label\": \"score\", \"formatter\": {\"type\": \"BasicTickFormatter\", \"id\": \"f0d3384c-84a7-4b06-9cad-ac4e3462a0e4\"}, \"ticker\": {\"type\": \"BasicTicker\", \"id\": \"8f29cd12-b95a-4f04-a194-251e0182f2ba\"}}, \"type\": \"LinearAxis\", \"id\": \"5d46caf7-ba9f-48fc-90d6-2d64bd52026c\"}, {\"attributes\": {\"plot\": {\"subtype\": \"Chart\", \"type\": \"Plot\", \"id\": \"ce04c87f-4114-4934-9385-da7a5a86d22b\"}, \"ticker\": {\"type\": \"BasicTicker\", \"id\": \"98c1773a-b2f6-492e-a24c-9b8aa5314917\"}, \"dimension\": 1}, \"type\": \"Grid\", \"id\": \"d1be8076-661b-44ea-b6fc-7c4d2c1ed1fd\"}, {\"attributes\": {\"plot\": {\"subtype\": \"Chart\", \"type\": \"Plot\", \"id\": \"ce04c87f-4114-4934-9385-da7a5a86d22b\"}}, \"type\": \"ResizeTool\", \"id\": \"7fb82019-a31c-4468-8a47-32103a8b27d4\"}, {\"attributes\": {\"plot\": {\"subtype\": \"Chart\", \"type\": \"Plot\", \"id\": \"728c9af2-89c8-4bb3-b093-c4bbdbe6609d\"}, \"ticker\": {\"type\": \"BasicTicker\", \"id\": \"8f29cd12-b95a-4f04-a194-251e0182f2ba\"}}, \"type\": \"Grid\", \"id\": \"12659aa2-0129-485e-9815-c11c040cce22\"}, {\"attributes\": {\"plot\": {\"subtype\": \"Chart\", \"type\": \"Plot\", \"id\": \"ce04c87f-4114-4934-9385-da7a5a86d22b\"}, \"axis_label\": \"score\", \"formatter\": {\"type\": \"BasicTickFormatter\", \"id\": \"bd42c0c9-608e-47a8-9bfe-dcd4666dc9c4\"}, \"ticker\": {\"type\": \"BasicTicker\", \"id\": \"3b27726c-ab18-4aee-a6c0-a6d1e385c171\"}}, \"type\": \"LinearAxis\", \"id\": \"50777795-0671-41e2-be21-2bfa23df91ac\"}, {\"attributes\": {}, \"type\": \"BasicTickFormatter\", \"id\": \"2fa3ead3-b190-47f6-b0e3-37954f9c94a3\"}, {\"attributes\": {\"plot\": {\"subtype\": \"Chart\", \"type\": \"Plot\", \"id\": \"ce04c87f-4114-4934-9385-da7a5a86d22b\"}, \"overlay\": {\"type\": \"BoxAnnotation\", \"id\": \"4a0c8718-c489-4583-ae8b-7eb1564db144\"}}, \"type\": \"BoxZoomTool\", \"id\": \"f9a50253-f737-4ccc-b938-7f6a63afe4bf\"}, {\"attributes\": {\"plot\": {\"subtype\": \"Chart\", \"type\": \"Plot\", \"id\": \"ce04c87f-4114-4934-9385-da7a5a86d22b\"}}, \"type\": \"PanTool\", \"id\": \"feac966e-9fb7-454b-873e-d77fd29a1461\"}, {\"attributes\": {\"plot\": {\"subtype\": \"Chart\", \"type\": \"Plot\", \"id\": \"ce04c87f-4114-4934-9385-da7a5a86d22b\"}, \"axis_label\": \"length\", \"formatter\": {\"type\": \"BasicTickFormatter\", \"id\": \"2fa3ead3-b190-47f6-b0e3-37954f9c94a3\"}, \"ticker\": {\"type\": \"BasicTicker\", \"id\": \"98c1773a-b2f6-492e-a24c-9b8aa5314917\"}}, \"type\": \"LinearAxis\", \"id\": \"db52dfee-3319-46dc-a1a0-3cb982c6ff70\"}, {\"attributes\": {\"callback\": null, \"end\": 32.7, \"start\": 0.2999999999999998}, \"type\": \"Range1d\", \"id\": \"640a3a96-0dcf-4479-bc3e-31be6b9f2940\"}, {\"attributes\": {\"nonselection_glyph\": null, \"data_source\": {\"type\": \"ColumnDataSource\", \"id\": \"5849c580-ef20-4efc-8763-4e7033670ed8\"}, \"selection_glyph\": null, \"hover_glyph\": null, \"glyph\": {\"type\": \"Circle\", \"id\": \"d4b05137-9912-4916-be74-2a2194f0b469\"}}, \"type\": \"GlyphRenderer\", \"id\": \"e332201c-4be1-4b80-aca1-ec3c52cdb1a7\"}, {\"attributes\": {\"plot\": {\"subtype\": \"Chart\", \"type\": \"Plot\", \"id\": \"728c9af2-89c8-4bb3-b093-c4bbdbe6609d\"}, \"axis_label\": \"length\", \"formatter\": {\"type\": \"BasicTickFormatter\", \"id\": \"648c84a7-d7ec-48b0-96c1-a5c4b201ff06\"}, \"ticker\": {\"type\": \"BasicTicker\", \"id\": \"7ae2aeff-4b58-4682-ac78-2a0cc6dccd64\"}}, \"type\": \"LinearAxis\", \"id\": \"74064b75-faab-4251-b8b9-1271c88c9621\"}, {\"attributes\": {\"plot\": {\"subtype\": \"Chart\", \"type\": \"Plot\", \"id\": \"728c9af2-89c8-4bb3-b093-c4bbdbe6609d\"}, \"overlay\": {\"type\": \"BoxAnnotation\", \"id\": \"3aefe01c-f7f3-46d8-9c8b-7588fb5b45d7\"}}, \"type\": \"BoxZoomTool\", \"id\": \"35bcff08-5666-475f-a78b-cf659ccc8de5\"}, {\"attributes\": {\"plot\": {\"subtype\": \"Chart\", \"type\": \"Plot\", \"id\": \"728c9af2-89c8-4bb3-b093-c4bbdbe6609d\"}, \"ticker\": {\"type\": \"BasicTicker\", \"id\": \"7ae2aeff-4b58-4682-ac78-2a0cc6dccd64\"}, \"dimension\": 1}, \"type\": \"Grid\", \"id\": \"651a5f0e-9c03-4d55-b930-eb531e34a759\"}, {\"attributes\": {}, \"type\": \"ToolEvents\", \"id\": \"9f48b935-fd6e-4171-8da7-df1fed831c60\"}, {\"attributes\": {\"plot\": {\"subtype\": \"Chart\", \"type\": \"Plot\", \"id\": \"ce04c87f-4114-4934-9385-da7a5a86d22b\"}}, \"type\": \"ResetTool\", \"id\": \"b623be03-4ddb-4d4d-864e-6330c514d11e\"}, {\"attributes\": {\"callback\": null, \"column_names\": [\"x_values\", \"y_values\"], \"data\": {\"x_values\": [7.525055283703363, 6.723479617261059, 5.9873322139113085, 5.676571026338057, 5.142724221353287, 4.911763552729637, 4.872469834509792, 4.700656236709738, 4.590280461854785, 4.371683514316571, 4.1113581810481294, 3.893346461886598, 3.6744180002703004, 3.613500058616077, 3.2441859924812397, 2.9068035198542526, 2.7852784832117132, 2.6502892190819045, 2.2810423585419666, 2.110497135473409, 2.0623122693667097, 2.005089398407589, 2.001387239252479, 1.9940237836260901, 1.9940237836260901, 1.870171374705215, 1.870171374705215, 1.851009782751268, 1.851009782751268, 1.7665438865370642, 1.7608046276464302, 1.7608046276464302, 1.7438084439818897, 1.7438084439818897, 1.7107817689064753, 1.7000491354754432, 1.663522604019556, 1.663522604019556, 1.663522604019556, 1.663522604019556, 1.6483444780704724, 1.6483444780704724, 1.6483444780704724, 1.6483444780704724, 1.618804254449138, 1.618804254449138, 1.5627902664059148, 1.5362122006507122, 1.4979979668036796, 1.4979979668036796, 1.4856789045766758, 1.4856789045766758, 1.4856789045766758, 1.4616387928521344, 1.4616387928521344, 1.4616387928521344, 1.4270028025001877, 1.4270028025001877, 1.4158193949570828, 1.4158193949570828, 1.4158193949570828, 1.4158193949570828, 1.4158193949570828, 1.4158193949570828, 1.3624325399436183, 1.3522346915907468, 1.3522346915907468, 1.3522346915907468, 1.3522346915907468, 1.332290227113007, 1.332290227113007, 1.332290227113007, 1.2941157220381359, 1.2941157220381359, 1.2941157220381359, 1.2941157220381359, 1.2941157220381359, 1.27583725138788, 1.2407867774486523, 1.2407867774486523, 1.2407867774486523, 1.1916791213491014, 1.1916791213491014, 1.1916791213491014, 1.1916791213491014, 1.1916791213491014, 1.1916791213491014, 1.1916791213491014, 1.1916791213491014, 1.1916791213491014, 1.1916791213491014, 1.146310626881496, 1.146310626881496, 1.146310626881496, 1.1042698948442773, 1.1042698948442773, 1.1042698948442773, 1.1042698948442773, 1.0652037429040317, 1.0652037429040317, 1.0652037429040317, 1.0652037429040317, 1.0652037429040317, 1.0288072596612972, 1.0288072596612972, 1.0288072596612972, 1.0288072596612972, 1.0288072596612972, 0.9948158303773337, 0.9948158303773337, 0.9948158303773337, 0.9948158303773337, 0.9948158303773337, 0.9948158303773337, 0.9948158303773337, 0.9629986929452226, 0.9629986929452226, 0.9629986929452226, 0.9331536921308046, 0.9331536921308046, 0.9331536921308046, 0.9331536921308046, 0.9331536921308046, 0.9331536921308046, 0.9051029799425038, 0.8786894688546878, 0.8786894688546878, 0.8786894688546878, 0.8537738884523808, 0.8537738884523808, 0.8537738884523808, 0.8537738884523808, 0.8302323290281423, 0.8302323290281423, 0.8302323290281423, 0.8302323290281423, 0.8079541806642387, 0.8079541806642387, 0.8079541806642387, 0.8079541806642387, 0.8079541806642387, 0.7868403954552428, 0.7668020152653812, 0.7668020152653812, 0.7668020152653812, 0.7477589188597837], \"chart_index\": [null, null, null, null, null, null, null, null, null, null, null, null, null, null, null, null, null, null, null, null, null, null, null, null, null, null, null, null, null, null, null, null, null, null, null, null, null, null, null, null, null, null, null, null, null, null, null, null, null, null, null, null, null, null, null, null, null, null, null, null, null, null, null, null, null, null, null, null, null, null, null, null, null, null, null, null, null, null, null, null, null, null, null, null, null, null, null, null, null, null, null, null, null, null, null, null, null, null, null, null, null, null, null, null, null, null, null, null, null, null, null, null, null, null, null, null, null, null, null, null, null, null, null, null, null, null, null, null, null, null, null, null, null, null, null, null, null, null, null, null, null, null, null, null, null, null], \"y_values\": [28, 5, 7, 8, 10, 11, 5, 12, 6, 18, 20, 26, 24, 19, 29, 16, 28, 30, 27, 3, 11, 28, 20, 12, 12, 14, 14, 5, 5, 26, 16, 16, 6, 6, 17, 28, 18, 18, 18, 18, 7, 7, 7, 7, 19, 19, 8, 21, 22, 22, 9, 9, 9, 23, 23, 23, 24, 24, 10, 10, 10, 10, 10, 10, 26, 11, 11, 11, 11, 27, 27, 27, 12, 12, 12, 12, 12, 29, 13, 13, 13, 14, 14, 14, 14, 14, 14, 14, 14, 14, 14, 15, 15, 15, 16, 16, 16, 16, 17, 17, 17, 17, 17, 18, 18, 18, 18, 18, 19, 19, 19, 19, 19, 19, 19, 20, 20, 20, 21, 21, 21, 21, 21, 21, 22, 23, 23, 23, 24, 24, 24, 24, 25, 25, 25, 25, 26, 26, 26, 26, 26, 27, 28, 28, 28, 29]}}, \"type\": \"ColumnDataSource\", \"id\": \"5849c580-ef20-4efc-8763-4e7033670ed8\"}, {\"attributes\": {\"nonselection_glyph\": null, \"data_source\": {\"type\": \"ColumnDataSource\", \"id\": \"9297bfac-ae04-4529-a540-29b83a4a3ca3\"}, \"selection_glyph\": null, \"hover_glyph\": null, \"glyph\": {\"type\": \"Circle\", \"id\": \"7fa195a2-f7e5-4619-ae64-2fda723ee9df\"}}, \"type\": \"GlyphRenderer\", \"id\": \"983b71b4-dcc2-4f78-80bb-4c077bb688b4\"}, {\"attributes\": {\"plot\": {\"subtype\": \"Chart\", \"type\": \"Plot\", \"id\": \"ce04c87f-4114-4934-9385-da7a5a86d22b\"}}, \"type\": \"HelpTool\", \"id\": \"364a08bd-09c5-490f-aefe-27d2d48f7244\"}, {\"attributes\": {\"plot\": {\"subtype\": \"Chart\", \"type\": \"Plot\", \"id\": \"728c9af2-89c8-4bb3-b093-c4bbdbe6609d\"}}, \"type\": \"WheelZoomTool\", \"id\": \"516489fd-5f74-45e6-84b5-68faaacb85bb\"}, {\"attributes\": {\"line_color\": {\"value\": \"#f22c40\"}, \"fill_color\": {\"value\": \"#f22c40\"}, \"fill_alpha\": {\"value\": 0.7}, \"y\": {\"field\": \"y_values\"}, \"x\": {\"field\": \"x_values\"}, \"size\": {\"units\": \"screen\", \"value\": 8}}, \"type\": \"Circle\", \"id\": \"7fa195a2-f7e5-4619-ae64-2fda723ee9df\"}, {\"attributes\": {}, \"type\": \"BasicTicker\", \"id\": \"98c1773a-b2f6-492e-a24c-9b8aa5314917\"}, {\"attributes\": {}, \"type\": \"BasicTickFormatter\", \"id\": \"648c84a7-d7ec-48b0-96c1-a5c4b201ff06\"}, {\"attributes\": {}, \"type\": \"BasicTickFormatter\", \"id\": \"bd42c0c9-608e-47a8-9bfe-dcd4666dc9c4\"}, {\"attributes\": {\"line_color\": {\"value\": \"#f22c40\"}, \"fill_color\": {\"value\": \"#f22c40\"}, \"fill_alpha\": {\"value\": 0.7}, \"y\": {\"field\": \"y_values\"}, \"x\": {\"field\": \"x_values\"}, \"size\": {\"units\": \"screen\", \"value\": 8}}, \"type\": \"Circle\", \"id\": \"d4b05137-9912-4916-be74-2a2194f0b469\"}, {\"attributes\": {}, \"type\": \"ToolEvents\", \"id\": \"184f9a18-c2c5-4228-8d24-bd6799a9f5a9\"}, {\"attributes\": {\"line_color\": {\"value\": \"black\"}, \"line_alpha\": {\"value\": 1.0}, \"render_mode\": \"css\", \"bottom_units\": \"screen\", \"level\": \"overlay\", \"top_units\": \"screen\", \"fill_alpha\": {\"value\": 0.5}, \"plot\": null, \"left_units\": \"screen\", \"line_dash\": [4, 4], \"line_width\": {\"value\": 2}, \"right_units\": \"screen\", \"fill_color\": {\"value\": \"lightgrey\"}}, \"type\": \"BoxAnnotation\", \"id\": \"3aefe01c-f7f3-46d8-9c8b-7588fb5b45d7\"}, {\"attributes\": {}, \"type\": \"BasicTicker\", \"id\": \"7ae2aeff-4b58-4682-ac78-2a0cc6dccd64\"}, {\"attributes\": {\"callback\": null, \"column_names\": [\"x_values\", \"y_values\"], \"data\": {\"x_values\": [7.525055283703363, 6.723479617261059, 5.9873322139113085, 5.676571026338057, 5.142724221353287, 4.911763552729637, 4.872469834509792, 4.700656236709738, 4.590280461854785, 4.371683514316571, 4.1113581810481294, 3.893346461886598, 3.6744180002703004, 3.613500058616077, 3.2441859924812397, 2.9068035198542526, 2.7852784832117132, 2.6502892190819045, 2.2810423585419666, 2.110497135473409, 2.0623122693667097, 2.005089398407589, 2.001387239252479, 1.9940237836260901, 1.9940237836260901, 1.870171374705215, 1.870171374705215, 1.851009782751268, 1.851009782751268, 1.7665438865370642, 1.7608046276464302, 1.7608046276464302, 1.7438084439818897, 1.7438084439818897, 1.7107817689064753, 1.7000491354754432, 1.663522604019556, 1.663522604019556, 1.663522604019556, 1.663522604019556, 1.6483444780704724, 1.6483444780704724, 1.6483444780704724, 1.6483444780704724, 1.618804254449138, 1.618804254449138, 1.5627902664059148, 1.5362122006507122, 1.4979979668036796, 1.4979979668036796, 1.4856789045766758, 1.4856789045766758, 1.4856789045766758, 1.4616387928521344, 1.4616387928521344, 1.4616387928521344, 1.4270028025001877, 1.4270028025001877, 1.4158193949570828, 1.4158193949570828, 1.4158193949570828, 1.4158193949570828, 1.4158193949570828, 1.4158193949570828, 1.3624325399436183, 1.3522346915907468, 1.3522346915907468, 1.3522346915907468, 1.3522346915907468, 1.332290227113007, 1.332290227113007, 1.332290227113007, 1.2941157220381359, 1.2941157220381359, 1.2941157220381359, 1.2941157220381359, 1.2941157220381359, 1.27583725138788, 1.2407867774486523, 1.2407867774486523, 1.2407867774486523, 1.1916791213491014, 1.1916791213491014, 1.1916791213491014, 1.1916791213491014, 1.1916791213491014, 1.1916791213491014, 1.1916791213491014, 1.1916791213491014, 1.1916791213491014, 1.1916791213491014, 1.146310626881496, 1.146310626881496, 1.146310626881496, 1.1042698948442773, 1.1042698948442773, 1.1042698948442773, 1.1042698948442773, 1.0652037429040317, 1.0652037429040317, 1.0652037429040317, 1.0652037429040317, 1.0652037429040317, 1.0288072596612972, 1.0288072596612972, 1.0288072596612972, 1.0288072596612972, 1.0288072596612972, 0.9948158303773337, 0.9948158303773337, 0.9948158303773337, 0.9948158303773337, 0.9948158303773337, 0.9948158303773337, 0.9948158303773337, 0.9629986929452226, 0.9629986929452226, 0.9629986929452226, 0.9331536921308046, 0.9331536921308046, 0.9331536921308046, 0.9331536921308046, 0.9331536921308046, 0.9331536921308046, 0.9051029799425038, 0.8786894688546878, 0.8786894688546878, 0.8786894688546878, 0.8537738884523808, 0.8537738884523808, 0.8537738884523808, 0.8537738884523808, 0.8302323290281423, 0.8302323290281423, 0.8302323290281423, 0.8302323290281423, 0.8079541806642387, 0.8079541806642387, 0.8079541806642387, 0.8079541806642387, 0.8079541806642387, 0.7868403954552428, 0.7668020152653812, 0.7668020152653812, 0.7668020152653812, 0.7477589188597837], \"chart_index\": [null, null, null, null, null, null, null, null, null, null, null, null, null, null, null, null, null, null, null, null, null, null, null, null, null, null, null, null, null, null, null, null, null, null, null, null, null, null, null, null, null, null, null, null, null, null, null, null, null, null, null, null, null, null, null, null, null, null, null, null, null, null, null, null, null, null, null, null, null, null, null, null, null, null, null, null, null, null, null, null, null, null, null, null, null, null, null, null, null, null, null, null, null, null, null, null, null, null, null, null, null, null, null, null, null, null, null, null, null, null, null, null, null, null, null, null, null, null, null, null, null, null, null, null, null, null, null, null, null, null, null, null, null, null, null, null, null, null, null, null, null, null, null, null, null, null], \"y_values\": [28, 5, 7, 8, 10, 11, 5, 12, 6, 18, 20, 26, 24, 19, 29, 16, 28, 30, 27, 3, 11, 28, 20, 12, 12, 14, 14, 5, 5, 26, 16, 16, 6, 6, 17, 28, 18, 18, 18, 18, 7, 7, 7, 7, 19, 19, 8, 21, 22, 22, 9, 9, 9, 23, 23, 23, 24, 24, 10, 10, 10, 10, 10, 10, 26, 11, 11, 11, 11, 27, 27, 27, 12, 12, 12, 12, 12, 29, 13, 13, 13, 14, 14, 14, 14, 14, 14, 14, 14, 14, 14, 15, 15, 15, 16, 16, 16, 16, 17, 17, 17, 17, 17, 18, 18, 18, 18, 18, 19, 19, 19, 19, 19, 19, 19, 20, 20, 20, 21, 21, 21, 21, 21, 21, 22, 23, 23, 23, 24, 24, 24, 24, 25, 25, 25, 25, 26, 26, 26, 26, 26, 27, 28, 28, 28, 29]}}, \"type\": \"ColumnDataSource\", \"id\": \"9297bfac-ae04-4529-a540-29b83a4a3ca3\"}, {\"attributes\": {\"callback\": null, \"end\": 8.202784920187721, \"start\": 0.07002928237542583}, \"type\": \"Range1d\", \"id\": \"68d5f002-9180-4519-b61a-b14c747ff943\"}, {\"attributes\": {\"callback\": null, \"end\": 8.202784920187721, \"start\": 0.07002928237542583}, \"type\": \"Range1d\", \"id\": \"bb5d84e5-21fa-4de7-9c45-e2e3d4c8baa3\"}, {\"attributes\": {\"plot\": {\"subtype\": \"Chart\", \"type\": \"Plot\", \"id\": \"728c9af2-89c8-4bb3-b093-c4bbdbe6609d\"}}, \"type\": \"PanTool\", \"id\": \"3ab148c7-891a-4b00-9bec-e65f8cf30615\"}, {\"attributes\": {\"plot\": {\"subtype\": \"Chart\", \"type\": \"Plot\", \"id\": \"728c9af2-89c8-4bb3-b093-c4bbdbe6609d\"}}, \"type\": \"HelpTool\", \"id\": \"3415b039-52aa-469a-a61a-c33aef0454f1\"}, {\"attributes\": {}, \"type\": \"BasicTicker\", \"id\": \"3b27726c-ab18-4aee-a6c0-a6d1e385c171\"}, {\"attributes\": {\"x_range\": {\"type\": \"Range1d\", \"id\": \"68d5f002-9180-4519-b61a-b14c747ff943\"}, \"y_mapper_type\": \"auto\", \"title_text_font_size\": {\"value\": \"14pt\"}, \"yscale\": \"auto\", \"y_range\": {\"type\": \"Range1d\", \"id\": \"640a3a96-0dcf-4479-bc3e-31be6b9f2940\"}, \"x_mapper_type\": \"auto\", \"renderers\": [{\"type\": \"BoxAnnotation\", \"id\": \"4a0c8718-c489-4583-ae8b-7eb1564db144\"}, {\"type\": \"GlyphRenderer\", \"id\": \"983b71b4-dcc2-4f78-80bb-4c077bb688b4\"}, {\"type\": \"LinearAxis\", \"id\": \"50777795-0671-41e2-be21-2bfa23df91ac\"}, {\"type\": \"LinearAxis\", \"id\": \"db52dfee-3319-46dc-a1a0-3cb982c6ff70\"}, {\"type\": \"Grid\", \"id\": \"30aa7fb5-f92b-4168-aa1d-624222da310c\"}, {\"type\": \"Grid\", \"id\": \"d1be8076-661b-44ea-b6fc-7c4d2c1ed1fd\"}], \"below\": [{\"type\": \"LinearAxis\", \"id\": \"50777795-0671-41e2-be21-2bfa23df91ac\"}], \"tool_events\": {\"type\": \"ToolEvents\", \"id\": \"184f9a18-c2c5-4228-8d24-bd6799a9f5a9\"}, \"xscale\": \"auto\", \"tools\": [{\"type\": \"PanTool\", \"id\": \"feac966e-9fb7-454b-873e-d77fd29a1461\"}, {\"type\": \"WheelZoomTool\", \"id\": \"9659a780-5858-44cc-a5f0-adf365fd17cf\"}, {\"type\": \"BoxZoomTool\", \"id\": \"f9a50253-f737-4ccc-b938-7f6a63afe4bf\"}, {\"type\": \"PreviewSaveTool\", \"id\": \"146c0d12-ac1b-4d9c-8174-2e412c0d117c\"}, {\"type\": \"ResizeTool\", \"id\": \"7fb82019-a31c-4468-8a47-32103a8b27d4\"}, {\"type\": \"ResetTool\", \"id\": \"b623be03-4ddb-4d4d-864e-6330c514d11e\"}, {\"type\": \"HelpTool\", \"id\": \"364a08bd-09c5-490f-aefe-27d2d48f7244\"}], \"legend\": null, \"left\": [{\"type\": \"LinearAxis\", \"id\": \"db52dfee-3319-46dc-a1a0-3cb982c6ff70\"}]}, \"type\": \"Plot\", \"id\": \"ce04c87f-4114-4934-9385-da7a5a86d22b\", \"subtype\": \"Chart\"}, {\"attributes\": {\"plot\": {\"subtype\": \"Chart\", \"type\": \"Plot\", \"id\": \"728c9af2-89c8-4bb3-b093-c4bbdbe6609d\"}}, \"type\": \"ResetTool\", \"id\": \"4340b8ac-4311-4368-94f3-d28730505e3b\"}, {\"attributes\": {}, \"type\": \"BasicTicker\", \"id\": \"8f29cd12-b95a-4f04-a194-251e0182f2ba\"}, {\"attributes\": {\"line_color\": {\"value\": \"black\"}, \"line_alpha\": {\"value\": 1.0}, \"render_mode\": \"css\", \"bottom_units\": \"screen\", \"level\": \"overlay\", \"top_units\": \"screen\", \"fill_alpha\": {\"value\": 0.5}, \"plot\": null, \"left_units\": \"screen\", \"line_dash\": [4, 4], \"line_width\": {\"value\": 2}, \"right_units\": \"screen\", \"fill_color\": {\"value\": \"lightgrey\"}}, \"type\": \"BoxAnnotation\", \"id\": \"4a0c8718-c489-4583-ae8b-7eb1564db144\"}]}, \"title\": \"Bokeh Application\"}};\n",
       "            var render_items = [{\"notebook_comms_target\": \"5e411774-57fa-482c-8ad6-2b1e5718dd4c\", \"docid\": \"227bd9b5-793c-4b6d-a94c-931498bc5f3f\", \"elementid\": \"e86dde3a-028b-4382-918a-715e7f5e4522\", \"modelid\": \"728c9af2-89c8-4bb3-b093-c4bbdbe6609d\"}];\n",
       "            \n",
       "            Bokeh.embed.embed_items(docs_json, render_items);\n",
       "        });\n",
       "      },\n",
       "      function(Bokeh) {\n",
       "      }\n",
       "    ];\n",
       "  \n",
       "    function run_inline_js() {\n",
       "      for (var i = 0; i < inline_js.length; i++) {\n",
       "        inline_js[i](window.Bokeh);\n",
       "      }\n",
       "    }\n",
       "  \n",
       "    if (window._bokeh_is_loading === 0) {\n",
       "      console.log(\"Bokeh: BokehJS loaded, going straight to plotting\");\n",
       "      run_inline_js();\n",
       "    } else {\n",
       "      load_libs(js_urls, function() {\n",
       "        console.log(\"Bokeh: BokehJS plotting callback run at\", now());\n",
       "        run_inline_js();\n",
       "      });\n",
       "    }\n",
       "  }(this));\n",
       "</script>"
      ]
     },
     "metadata": {},
     "output_type": "display_data"
    },
    {
     "data": {
      "text/plain": [
       "<bokeh.io._CommsHandle at 0x7fb38356c4d0>"
      ]
     },
     "execution_count": 48,
     "metadata": {},
     "output_type": "execute_result"
    }
   ],
   "source": [
    "results = get_results_bm25('i hate tomatos', tweet_text, k1=2.5, b=0.75)\n",
    "\n",
    "# Plot score vs item length\n",
    "df = pd.DataFrame({'score':[float(x[0]) for x in results],\n",
    "                   'length':[len(tweet_text[x[1]].split()) for x in results]})\n",
    "output_notebook()\n",
    "p = Scatter(df, x='score', y='length')\n",
    "show(p)"
   ]
  },
  {
   "cell_type": "markdown",
   "metadata": {
    "collapsed": true
   },
   "source": [
    "# Get content based on username\n",
    "This function will retrieve tweets in the corpus that belong to the specified user. These tweets will be ordered by date. "
   ]
  },
  {
   "cell_type": "code",
   "execution_count": 49,
   "metadata": {
    "collapsed": false
   },
   "outputs": [
    {
     "name": "stdout",
     "output_type": "stream",
     "text": [
      "Tue Jun 02 04:29:16 UTC 2009 SimpleManJess ncaa baseball super regional rams club\n",
      "Tue Jun 02 04:29:17 UTC 2009 SimpleManJess baseballamerica com blog baseball america prospects blog blog\n"
     ]
    }
   ],
   "source": [
    "def print_results_username(username_index, user_name):\n",
    "    if(user_name in username_index):\n",
    "        # All of the documents that correspond to the username \n",
    "        docs = username_index[user_name]\n",
    "        # For every doc, print date, username, and tweet \n",
    "        for doc in docs:\n",
    "            print tweet_date[doc] + \" \" + tweet_user[doc] + \" \" + tweet_text[doc]\n",
    "    else:\n",
    "        print \"Username does not exist\"\n",
    "    \n",
    "results = create_user_index(tweet_user)\n",
    "print_results_username(results, 'SimpleManJess')"
   ]
  },
  {
   "cell_type": "markdown",
   "metadata": {},
   "source": [
    "# Determine User Query\n",
    "This will take in the user query and determine whether or not the user is wishin to search all tweet content or a specific user's content."
   ]
  },
  {
   "cell_type": "code",
   "execution_count": 50,
   "metadata": {
    "collapsed": false
   },
   "outputs": [],
   "source": [
    "def determine_query(query):\n",
    "    if(query[0] == '@' and len(query.split()) == 1):\n",
    "        user_choice = raw_input((\"Select your query preference\",\n",
    "                                \"\\n1. All content\",\n",
    "                                \"\\n2. User content\"))\n",
    "        return user_choice\n",
    "    return '1'\n",
    "    "
   ]
  },
  {
   "cell_type": "code",
   "execution_count": 51,
   "metadata": {
    "collapsed": false
   },
   "outputs": [],
   "source": [
    "def u_search(user_choice, query, idx, user_idx):\n",
    "    if(user_choice == '1'):\n",
    "\t\tquery = normalize(query)\n",
    "\n",
    "\t\tresults = get_results_bm25(idx, query, 2.5, 0.25)\n",
    "\t\tprint_results(results,25)\n",
    "\n",
    "    if(user_choice == '2'):\n",
    "\t\tquery = query[1:]\n",
    "\t\tprint_results_username(user_idx, query)\n",
    "    "
   ]
  },
  {
   "cell_type": "raw",
   "metadata": {
    "collapsed": false
   },
   "source": [
    "input = raw_input(\"Enter \")"
   ]
  },
  {
   "cell_type": "code",
   "execution_count": null,
   "metadata": {
    "collapsed": false
   },
   "outputs": [
    {
     "name": "stdout",
     "output_type": "stream",
     "text": [
      "Enter Query (@ to quit): happy\n",
      "\n",
      "Top 25 from recall set of 7 items:\n",
      "\t4.37 - maex242 - i am happy for philip being at googleio today\n",
      "\t4.37 - jackdaniels08 - @googleio yay happy place place place i love google\n",
      "\t4.19 - laulaulauren - only one exam left and i am so happy for it d\n",
      "\t4.13 - GeorgeVHulme - @richardebaker no it is too big i m quite happy with the kindle\n",
      "\t3.92 - overthrow - as u may have noticed not too happy about the gm situation nor aig lehman et al\n",
      "\t3.72 - kmozena - @sklososky thanks so much from one of your very happy kindle winners i was so surprised fabulous thank you best kathleen\n",
      "\t3.68 - jamespenycate - monday already iran may implode kitchen is a disaster @annagoss seems happy @sebulous had a nice weekend and @goldpanda is great whoop\n",
      "\n",
      "Enter Query (@ to quit): happiness\n",
      "\n",
      "Top 25 from recall set of 7 items:\n",
      "\t4.37 - maex242 - i am happy for philip being at googleio today\n",
      "\t4.37 - jackdaniels08 - @googleio yay happy place place place i love google\n",
      "\t4.19 - laulaulauren - only one exam left and i am so happy for it d\n",
      "\t4.13 - GeorgeVHulme - @richardebaker no it is too big i m quite happy with the kindle\n",
      "\t3.92 - overthrow - as u may have noticed not too happy about the gm situation nor aig lehman et al\n",
      "\t3.72 - kmozena - @sklososky thanks so much from one of your very happy kindle winners i was so surprised fabulous thank you best kathleen\n",
      "\t3.68 - jamespenycate - monday already iran may implode kitchen is a disaster @annagoss seems happy @sebulous had a nice weekend and @goldpanda is great whoop\n",
      "\n"
     ]
    }
   ],
   "source": [
    "# The main function that will run the search engine\n",
    "def main():\n",
    "    query = \"\"\n",
    "    idx = create_inverted_index(tweet_text)\n",
    "    user_idx = create_user_index(tweet_user)\n",
    "    # Keep asking for a query until the user enters an \"@\" sign\n",
    "    while query != \"@\":\n",
    "        query = raw_input(\"Enter Query (@ to quit): \" )\n",
    "        if (query != \"@\"):\n",
    "            stemmed_query = stem_tweet(query)\n",
    "            choice = determine_query(stemmed_query)\n",
    "            u_search(choice, stemmed_query, idx, user_idx)\n",
    "        print (\"\")\n",
    "\n",
    "# Get the name of the file to use for data\n",
    "#filename = raw_input(\"Enter data filename: \")\n",
    "\n",
    "# Read in the data from the csv file\n",
    "docs = getTwitterDocs(\"twitter-data/smallData.csv\")\n",
    "\n",
    "# Create the lists that contain the tweet info\n",
    "tweet_date = [ d[0] for d in docs ] #Tweet dates\n",
    "tweet_user = [ d[1] for d in docs ] #Tweet users\n",
    "tweet_text = [ d[2] for d in docs ] #Tweet text\n",
    "\n",
    "#Normalize each tweet \n",
    "tweet_text = map(normalize, tweet_text)\n",
    "\n",
    "# n - the length of the corpus\n",
    "n = len(tweet_text)\n",
    "\n",
    "# d - list with elements corresponding to the length of each document\n",
    "d = [len(x.split()) for x in tweet_text]\n",
    "\n",
    "# d_avg - the average document length of the docuemnts in the corpus\n",
    "d_avg = float(sum(d) / len(d))\n",
    "\n",
    "# Run the search engine\n",
    "main()\n"
   ]
  },
  {
   "cell_type": "code",
   "execution_count": null,
   "metadata": {
    "collapsed": true
   },
   "outputs": [],
   "source": []
  }
 ],
 "metadata": {
  "kernelspec": {
   "display_name": "Python 2",
   "language": "python",
   "name": "python2"
  },
  "language_info": {
   "codemirror_mode": {
    "name": "ipython",
    "version": 2
   },
   "file_extension": ".py",
   "mimetype": "text/x-python",
   "name": "python",
   "nbconvert_exporter": "python",
   "pygments_lexer": "ipython2",
   "version": "2.7.11"
  }
 },
 "nbformat": 4,
 "nbformat_minor": 0
}
